{
 "cells": [
  {
   "cell_type": "markdown",
   "id": "417fbae5-58a9-4413-97cd-87a82076745e",
   "metadata": {},
   "source": [
    "#tuple"
   ]
  },
  {
   "cell_type": "code",
   "execution_count": 12,
   "id": "b245b10d-f3b5-414a-837d-eab25b8845e1",
   "metadata": {},
   "outputs": [
    {
     "name": "stdout",
     "output_type": "stream",
     "text": [
      "('Ali', 'vaishnavi', 'tanuja', 'shreya', 'adil')\n"
     ]
    }
   ],
   "source": [
    "student = (\"Ali\",\"vaishnavi\",\"tanuja\",\"shreya\",\"adil\")\n",
    "x = e.count(\"vaishnavi\")\n",
    "print(student)\n"
   ]
  },
  {
   "cell_type": "code",
   "execution_count": 2,
   "id": "55a04d7b-bf4c-4503-9d76-a2b5ad375c81",
   "metadata": {},
   "outputs": [
    {
     "name": "stdout",
     "output_type": "stream",
     "text": [
      "3\n"
     ]
    }
   ],
   "source": [
    "student = (\"Ali\",\"vaishnavi\",\"tanuja\",\"shreya\",\"adil\")\n",
    "x = e.count(\"vaishnavi\")\n",
    "print(student)"
   ]
  },
  {
   "cell_type": "code",
   "execution_count": null,
   "id": "40846dca-78ec-4c10-81f3-5ce3c91495a9",
   "metadata": {},
   "outputs": [],
   "source": [
    "\n"
   ]
  },
  {
   "cell_type": "markdown",
   "id": "185474f7-387a-4ee2-b765-6c80da9fbf83",
   "metadata": {},
   "source": [
    "#set"
   ]
  },
  {
   "cell_type": "code",
   "execution_count": 10,
   "id": "581c5d5d-ce5c-4af6-a8fc-78911eeb7b31",
   "metadata": {},
   "outputs": [
    {
     "name": "stdout",
     "output_type": "stream",
     "text": [
      "{41, 90, 13, 78, 31}\n"
     ]
    }
   ],
   "source": [
    "set ={13,41,13,31,78,90}\n",
    "print(set)"
   ]
  },
  {
   "cell_type": "code",
   "execution_count": 11,
   "id": "781af0b1-4030-4c5c-b20c-acbed5cda5d5",
   "metadata": {},
   "outputs": [
    {
     "name": "stdout",
     "output_type": "stream",
     "text": [
      "{41, 90, 13, 78, 31}\n",
      "{55, 41, 90, 13, 78, 31}\n"
     ]
    }
   ],
   "source": [
    "set ={13,41,13,31,78,90}\n",
    "print(set)\n",
    "set.add(55)\n",
    "print (set)"
   ]
  },
  {
   "cell_type": "code",
   "execution_count": null,
   "id": "9f5d9fab-773c-4b32-956d-0b099f1b09bc",
   "metadata": {},
   "outputs": [],
   "source": [
    "set ={13,41,13,31,78,90}\n",
    "print(set)\n",
    "set.add(55)\n",
    "print (set)"
   ]
  },
  {
   "cell_type": "code",
   "execution_count": 13,
   "id": "16786551-9557-4c09-a75a-d99a4221b32c",
   "metadata": {},
   "outputs": [
    {
     "name": "stdout",
     "output_type": "stream",
     "text": [
      "{1, 2, 3, 4, 5, 6}\n"
     ]
    }
   ],
   "source": [
    "set1={1,2,3}\n",
    "set2={4,5,6}\n",
    "union_set=set1.union(set2)\n",
    "print(union_set)"
   ]
  },
  {
   "cell_type": "code",
   "execution_count": 14,
   "id": "d4a482bf-d59f-473a-a5fb-4802ae75032f",
   "metadata": {},
   "outputs": [
    {
     "name": "stdout",
     "output_type": "stream",
     "text": [
      "{5}\n"
     ]
    }
   ],
   "source": [
    "set1={1,2,3,5}\n",
    "set2={4,5,6,5}\n",
    "intersection_set=set1.intersection(set2)\n",
    "print(intersection_set)"
   ]
  },
  {
   "cell_type": "code",
   "execution_count": 15,
   "id": "e7bf003b-d4b5-4c02-b641-87d62b0d6e17",
   "metadata": {},
   "outputs": [
    {
     "name": "stdout",
     "output_type": "stream",
     "text": [
      "{1, 2, 3}\n"
     ]
    }
   ],
   "source": [
    "set1={1,2,3,5}\n",
    "set2={4,5,6,5}\n",
    "difference_set=set1.difference(set2)\n",
    "print(difference_set)"
   ]
  },
  {
   "cell_type": "code",
   "execution_count": 16,
   "id": "3b56bdf7-fa1c-4b50-8687-bd27db6c08fd",
   "metadata": {},
   "outputs": [
    {
     "name": "stdout",
     "output_type": "stream",
     "text": [
      "4\n"
     ]
    }
   ],
   "source": [
    "set1={1,2,3,5}\n",
    "print(len(set1))"
   ]
  },
  {
   "cell_type": "code",
   "execution_count": 17,
   "id": "4fbdce04-4e54-4a67-ad91-bec56707603b",
   "metadata": {},
   "outputs": [],
   "source": [
    "#dictionaryyyyyyyyyyyyyyyyyyyyyyyyyyyyyyyyyyyyyyyyyyyyyyyyyyyyyyy"
   ]
  },
  {
   "cell_type": "code",
   "execution_count": 21,
   "id": "30a204a9-bbb3-4176-a7f3-ecaa6d55a70e",
   "metadata": {},
   "outputs": [
    {
     "name": "stdout",
     "output_type": "stream",
     "text": [
      "{'shreya': 75, 'ali': 98, 'musa': 20}\n",
      "98\n"
     ]
    }
   ],
   "source": []
  },
  {
   "cell_type": "code",
   "execution_count": null,
   "id": "a39166b5-c459-4e5a-8da0-bc9a15b4c5d2",
   "metadata": {},
   "outputs": [],
   "source": [
    "dict = {\n",
    "  \"name\": \"vaishnavi\",\n",
    "  \"age\": 20,\n",
    "  \"city\":\"solapur\"\n",
    "\n",
    "}\n",
    "print(len(a))"
   ]
  },
  {
   "cell_type": "code",
   "execution_count": 27,
   "id": "c2f009ee-05bd-4da0-b47f-960fa3d25481",
   "metadata": {},
   "outputs": [
    {
     "name": "stdout",
     "output_type": "stream",
     "text": [
      "{'name': 'vaishnavi', 'age': 20, 'city': 'solapur', 'vaishnavi': '19'}\n"
     ]
    }
   ],
   "source": [
    "dict = {                                     #update\n",
    "  \"name\": \"vaishnavi\",\n",
    "  \"age\": 20,\n",
    "  \"city\":\"solapur\"\n",
    "}\n",
    "\n",
    "dict.update({\"vaishnavi\":\"19\"})\n",
    "print(dict)"
   ]
  },
  {
   "cell_type": "code",
   "execution_count": 24,
   "id": "7af3db7f-7e82-45e0-8852-d38e48159fef",
   "metadata": {},
   "outputs": [
    {
     "name": "stdout",
     "output_type": "stream",
     "text": [
      "{'shreya': 75, 'ali': 98, 'musa': 20}\n",
      "dict_keys(['name', 'age', 'city'])\n"
     ]
    }
   ],
   "source": [
    "dict = {                                              #keys\n",
    "  \"name\": \"vaishnavi\",\n",
    "  \"age\": 20,\n",
    "  \"city\":\"solapur\"\n",
    "}\n",
    "print(a)\n",
    "print(dict.keys())\n",
    "\n",
    "\n"
   ]
  },
  {
   "cell_type": "code",
   "execution_count": 25,
   "id": "acc5b557-df0d-4969-96fe-8859885b42e5",
   "metadata": {},
   "outputs": [
    {
     "name": "stdout",
     "output_type": "stream",
     "text": [
      "{'shreya': 75, 'ali': 98, 'musa': 20}\n",
      "dict_values(['vaishnavi', 20, 'solapur'])\n"
     ]
    }
   ],
   "source": [
    "dict = {                                              #values\n",
    "  \"name\": \"vaishnavi\",\n",
    "  \"age\": 20,\n",
    "  \"city\":\"solapur\"\n",
    "}\n",
    "print(a)\n",
    "print(dict.values())"
   ]
  },
  {
   "cell_type": "code",
   "execution_count": 28,
   "id": "589b3108-ef2c-4c68-93dc-a96175c12819",
   "metadata": {},
   "outputs": [
    {
     "name": "stdout",
     "output_type": "stream",
     "text": [
      "{'shreya': 75, 'ali': 98, 'musa': 20}\n",
      "dict_items([('name', 'vaishnavi'), ('age', 20), ('city', 'solapur')])\n"
     ]
    }
   ],
   "source": [
    "dict = {                                           #items\n",
    "  \"name\": \"vaishnavi\",\n",
    "  \"age\": 20,\n",
    "  \"city\":\"solapur\"\n",
    "}\n",
    "print(dict)\n",
    "print(dict.items())"
   ]
  },
  {
   "cell_type": "code",
   "execution_count": 33,
   "id": "8bb52228-f706-44f3-9a9d-372cdd947279",
   "metadata": {},
   "outputs": [
    {
     "name": "stdout",
     "output_type": "stream",
     "text": [
      "{'name': 'vaishnavi', 'age': 20, 'city': 'solapur'}\n",
      "vaishnavi\n"
     ]
    }
   ],
   "source": [
    "dict = {                                           #get\n",
    "  \"name\": \"vaishnavi\",\n",
    "  \"age\": 20,\n",
    "  \"city\":\"solapur\"\n",
    "}\n",
    "print(dict)\n",
    "print(dict.get(\"name\"))"
   ]
  },
  {
   "cell_type": "code",
   "execution_count": 35,
   "id": "ec879ef9-dec4-4710-bae2-4443806074e3",
   "metadata": {},
   "outputs": [
    {
     "name": "stdout",
     "output_type": "stream",
     "text": [
      "{'name': 'vaishnavi', 'age': 20, 'city': 'solapur'}\n",
      "{'name': 'vaishnavi', 'age': 15, 'city': 'solapur'}\n"
     ]
    }
   ],
   "source": [
    "dict = {                                         #update\n",
    "  \"name\": \"vaishnavi\",\n",
    "  \"age\": 20,\n",
    "  \"city\":\"solapur\"\n",
    "}\n",
    "print(dict)\n",
    "dict[\"age\"]=15\n",
    "print(dict)"
   ]
  },
  {
   "cell_type": "code",
   "execution_count": 36,
   "id": "2b145639-df88-44f3-96c4-0b1672d75543",
   "metadata": {},
   "outputs": [
    {
     "name": "stdout",
     "output_type": "stream",
     "text": [
      "{'name': 'vaishnavi', 'age': 20, 'city': 'solapur'}\n",
      "{'name': 'vaishnavi', 'city': 'solapur'}\n"
     ]
    }
   ],
   "source": [
    "dict = {                                         #del\n",
    "  \"name\": \"vaishnavi\",\n",
    "  \"age\": 20,\n",
    "  \"city\":\"solapur\"\n",
    "}\n",
    "print(dict)\n",
    "del dict[\"age\"]\n",
    "print(dict)"
   ]
  },
  {
   "cell_type": "code",
   "execution_count": 37,
   "id": "680e15ca-7f37-4a36-a597-156202a7aafa",
   "metadata": {},
   "outputs": [
    {
     "name": "stdout",
     "output_type": "stream",
     "text": [
      "{'name': 'vaishnavi', 'age': 20, 'city': 'solapur'}\n",
      "{}\n"
     ]
    }
   ],
   "source": [
    "dict = {                                         #clear\n",
    "  \"name\": \"vaishnavi\",\n",
    "  \"age\": 20,\n",
    "  \"city\":\"solapur\"\n",
    "}\n",
    "print(dict)\n",
    "dict.clear()\n",
    "print(dict)"
   ]
  },
  {
   "cell_type": "code",
   "execution_count": null,
   "id": "83a8bee0-124d-47e0-9767-cce76713a8cb",
   "metadata": {},
   "outputs": [],
   "source": [
    "dict = {                                         #\n",
    "  \"name\": \"vaishnavi\",\n",
    "  \"age\": 20,\n",
    "  \"city\":\"solapur\"\n",
    "}\n",
    "print(dict)\n",
    "dict.clear()\n",
    "print(dict)"
   ]
  }
 ],
 "metadata": {
  "kernelspec": {
   "display_name": "Python 3 (ipykernel)",
   "language": "python",
   "name": "python3"
  },
  "language_info": {
   "codemirror_mode": {
    "name": "ipython",
    "version": 3
   },
   "file_extension": ".py",
   "mimetype": "text/x-python",
   "name": "python",
   "nbconvert_exporter": "python",
   "pygments_lexer": "ipython3",
   "version": "3.12.4"
  }
 },
 "nbformat": 4,
 "nbformat_minor": 5
}
