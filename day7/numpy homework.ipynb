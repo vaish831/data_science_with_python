{
 "cells": [
  {
   "cell_type": "markdown",
   "id": "c2b2c723-a80d-4f5a-b0c8-d9642b23d18a",
   "metadata": {},
   "source": [
    "## homework"
   ]
  },
  {
   "cell_type": "code",
   "execution_count": 6,
   "id": "f0fd6924-5cc0-467b-bc8c-3f91ff9bf14e",
   "metadata": {},
   "outputs": [
    {
     "name": "stdout",
     "output_type": "stream",
     "text": [
      "[1 2 3 4 5 6]\n",
      "(6,)\n",
      "6\n",
      "1\n",
      "<built-in method reshape of numpy.ndarray object at 0x00000246987052F0>\n"
     ]
    }
   ],
   "source": [
    "import numpy as np\n",
    "single_dimarray=np.array([1,2,3,4,5,6])\n",
    "print(single_dimarray)\n",
    "print(single_dimarray.shape)\n",
    "print(single_dimarray.size)\n",
    "print(single_dimarray.ndim)\n",
    "print(single_dimarray.reshape)"
   ]
  },
  {
   "cell_type": "code",
   "execution_count": 14,
   "id": "ce6306e4-cafe-4f95-b52b-68d90fc4d5ec",
   "metadata": {},
   "outputs": [
    {
     "name": "stdout",
     "output_type": "stream",
     "text": [
      "[[1 2 3]\n",
      " [4 5 6]\n",
      " [7 8 9]]\n",
      "(3, 3)\n",
      "9\n",
      "2\n",
      "[[1 2 3]\n",
      " [4 5 6]\n",
      " [7 8 9]]\n"
     ]
    }
   ],
   "source": [
    "two_dimarray=np.array([[1,2,3],[4,5,6],[7,8,9]])\n",
    "print(two_dimarray)\n",
    "print(two_dimarray.shape)\n",
    "print(two_dimarray.size)\n",
    "print(two_dimarray.ndim)\n",
    "print(two_dimarray.reshape(3,3))\n"
   ]
  },
  {
   "cell_type": "code",
   "execution_count": 20,
   "id": "179fca6a-0a91-4e7c-ad69-769e658e7edf",
   "metadata": {},
   "outputs": [
    {
     "name": "stdout",
     "output_type": "stream",
     "text": [
      "[[[1 2 3]\n",
      "  [4 5 6]\n",
      "  [7 8 9]]]\n",
      "(1, 3, 3)\n",
      "9\n",
      "3\n",
      "[[1 2 3]\n",
      " [4 5 6]\n",
      " [7 8 9]]\n"
     ]
    }
   ],
   "source": [
    "three_dimarray=np.array([[[1,2,3],[4,5,6],[7,8,9]]])\n",
    "print(three_dimarray)\n",
    "print(three_dimarray.shape)\n",
    "print(three_dimarray.size)\n",
    "print(three_dimarray.ndim)\n",
    "print(three_dimarray.reshape(3,3))"
   ]
  },
  {
   "cell_type": "code",
   "execution_count": null,
   "id": "70cc076d-b3c4-42cf-a640-977bd05dab67",
   "metadata": {},
   "outputs": [],
   "source": []
  },
  {
   "cell_type": "markdown",
   "id": "d1eb0ab4-024a-4fe9-b30c-3c3e8a80627c",
   "metadata": {},
   "source": [
    "### reshape()"
   ]
  },
  {
   "cell_type": "markdown",
   "id": "de62a02d-9c28-4030-8360-dec8065ff5f7",
   "metadata": {},
   "source": [
    "#### 2d array"
   ]
  },
  {
   "cell_type": "code",
   "execution_count": 23,
   "id": "6e3680e6-8059-4aaf-b1f2-ee0f9876c3e8",
   "metadata": {},
   "outputs": [
    {
     "name": "stdout",
     "output_type": "stream",
     "text": [
      "[ 1  2  3  4  5  6  7  8  9 10 11 12]\n",
      "[[ 1  2  3]\n",
      " [ 4  5  6]\n",
      " [ 7  8  9]\n",
      " [10 11 12]]\n"
     ]
    }
   ],
   "source": [
    "import numpy as np\n",
    "arr=np.array([1,2,3,4,5,6,7,8,9,10,11,12,])\n",
    "print(arr)\n",
    "newarr=arr.reshape(4,3)\n",
    "print(newarr)"
   ]
  },
  {
   "cell_type": "markdown",
   "id": "9c5f9afb-9826-4a3c-ac45-7262389ee246",
   "metadata": {},
   "source": [
    "##### 3d array"
   ]
  },
  {
   "cell_type": "code",
   "execution_count": 24,
   "id": "53ff8a2a-e5b5-4f84-a795-fd28af51b3b1",
   "metadata": {},
   "outputs": [
    {
     "name": "stdout",
     "output_type": "stream",
     "text": [
      "[ 1  2  3  4  5  6  7  8  9 10 11 12]\n",
      "[[[ 1  2]\n",
      "  [ 3  4]\n",
      "  [ 5  6]]\n",
      "\n",
      " [[ 7  8]\n",
      "  [ 9 10]\n",
      "  [11 12]]]\n"
     ]
    }
   ],
   "source": [
    "import numpy as np\n",
    "arr=np.array([1,2,3,4,5,6,7,8,9,10,11,12,])\n",
    "print(arr)\n",
    "newarr=arr.reshape(2,3,2)\n",
    "print(newarr)"
   ]
  },
  {
   "cell_type": "code",
   "execution_count": null,
   "id": "20eac0c1-a209-4f00-ac4c-e019854d146d",
   "metadata": {},
   "outputs": [],
   "source": []
  },
  {
   "cell_type": "markdown",
   "id": "e3e3d813-0e68-4311-9dab-9844afacfb82",
   "metadata": {},
   "source": [
    "#### to find out data type of arrayy"
   ]
  },
  {
   "cell_type": "code",
   "execution_count": 27,
   "id": "820f95c3-9d7f-4478-9a74-2f4ba870ee15",
   "metadata": {},
   "outputs": [
    {
     "name": "stdout",
     "output_type": "stream",
     "text": [
      "int64\n"
     ]
    }
   ],
   "source": [
    "print(single_dimarray.dtype)"
   ]
  },
  {
   "cell_type": "markdown",
   "id": "aad45523-b765-43f4-9dd6-0e0867073c88",
   "metadata": {},
   "source": [
    "#### access single element from an array"
   ]
  },
  {
   "cell_type": "code",
   "execution_count": 26,
   "id": "e434b135-2fe0-4e31-875e-bf5b527c1f5c",
   "metadata": {},
   "outputs": [
    {
     "name": "stdout",
     "output_type": "stream",
     "text": [
      "5\n"
     ]
    }
   ],
   "source": [
    "print(single_dimarray[4])"
   ]
  },
  {
   "cell_type": "markdown",
   "id": "a5d36dc9-16eb-43fa-9632-56294de7111f",
   "metadata": {},
   "source": [
    "#### access single element from mulidimensional array"
   ]
  },
  {
   "cell_type": "code",
   "execution_count": 28,
   "id": "6a4bb9ee-079d-40b7-a2e3-daed536fdd36",
   "metadata": {},
   "outputs": [
    {
     "name": "stdout",
     "output_type": "stream",
     "text": [
      "[[1 2 3]\n",
      " [4 5 6]\n",
      " [7 8 9]]\n",
      "2\n"
     ]
    }
   ],
   "source": [
    "print(two_dimarray)\n",
    "print(two_dimarray[0,1])"
   ]
  },
  {
   "cell_type": "markdown",
   "id": "ee1a0df6-1e68-457a-8fce-a9b76fcd109f",
   "metadata": {},
   "source": [
    "#### slicing of array"
   ]
  },
  {
   "cell_type": "code",
   "execution_count": 30,
   "id": "6aa8d9cb-afcd-425a-9014-e25420b62850",
   "metadata": {},
   "outputs": [
    {
     "name": "stdout",
     "output_type": "stream",
     "text": [
      "[1 2 3 4 5 6]\n",
      "[3 4 5]\n"
     ]
    }
   ],
   "source": [
    "print(single_dimarray)\n",
    "print(single_dimarray[2:5])"
   ]
  },
  {
   "cell_type": "markdown",
   "id": "f2f55028-0b69-4a0e-af88-99a8baf28474",
   "metadata": {},
   "source": [
    "#### to update existing array"
   ]
  },
  {
   "cell_type": "code",
   "execution_count": 36,
   "id": "3a94b0c6-5e89-443d-83ae-43c889d4e6f0",
   "metadata": {},
   "outputs": [
    {
     "name": "stdout",
     "output_type": "stream",
     "text": [
      "[1 2 3 4 5 6]\n",
      "[ 1  2  3  4 55  6]\n"
     ]
    }
   ],
   "source": [
    "print(single_dimarray)\n",
    "single_dimarray[4]=55\n",
    "print(single_dimarray)"
   ]
  },
  {
   "cell_type": "code",
   "execution_count": 37,
   "id": "7f8f3828-b646-4ffa-8bc5-10bc2e1c0c17",
   "metadata": {},
   "outputs": [
    {
     "name": "stdout",
     "output_type": "stream",
     "text": [
      "[ 1  2  3  4 55  6]\n",
      "[ 1  2  3  4 66  6]\n"
     ]
    }
   ],
   "source": [
    "print(single_dimarray)\n",
    "single_dimarray[4]=66\n",
    "print(single_dimarray)\n"
   ]
  },
  {
   "cell_type": "markdown",
   "id": "999b3134-2864-4881-9db1-e9070ff69ca1",
   "metadata": {},
   "source": [
    "#### slicing in multidimensional array"
   ]
  },
  {
   "cell_type": "code",
   "execution_count": 38,
   "id": "ecca5a48-5a06-4705-aaec-9023da53f33b",
   "metadata": {},
   "outputs": [
    {
     "name": "stdout",
     "output_type": "stream",
     "text": [
      "[[1 2 3]\n",
      " [4 5 6]\n",
      " [7 8 9]]\n"
     ]
    }
   ],
   "source": [
    "print(two_dimarray)"
   ]
  },
  {
   "cell_type": "code",
   "execution_count": 42,
   "id": "54517aa7-ab45-4532-80f6-15a374012631",
   "metadata": {},
   "outputs": [
    {
     "name": "stdout",
     "output_type": "stream",
     "text": [
      "[[1 2 3]\n",
      " [4 5 6]]\n"
     ]
    }
   ],
   "source": [
    "print(two_dimarray[0:2])"
   ]
  },
  {
   "cell_type": "code",
   "execution_count": 41,
   "id": "58751937-f718-460a-8c53-c16d075f9649",
   "metadata": {},
   "outputs": [
    {
     "name": "stdout",
     "output_type": "stream",
     "text": [
      "[[1 2]\n",
      " [4 5]\n",
      " [7 8]]\n"
     ]
    }
   ],
   "source": [
    "print(two_dimarray[:,:2])"
   ]
  },
  {
   "cell_type": "code",
   "execution_count": 43,
   "id": "615a9855-3bbf-4475-8ee0-acce282b45d9",
   "metadata": {},
   "outputs": [
    {
     "name": "stdout",
     "output_type": "stream",
     "text": [
      "[[1 2 3]\n",
      " [4 5 6]]\n"
     ]
    }
   ],
   "source": [
    "print(two_dimarray[:2])"
   ]
  },
  {
   "cell_type": "markdown",
   "id": "23cc097d-379a-4e30-8ba3-d6b48b4a5bdd",
   "metadata": {},
   "source": [
    "#### addition"
   ]
  },
  {
   "cell_type": "code",
   "execution_count": 44,
   "id": "5a2ba82f-d92a-4857-aefb-83939f4d92ec",
   "metadata": {},
   "outputs": [
    {
     "name": "stdout",
     "output_type": "stream",
     "text": [
      "[5 7 9]\n"
     ]
    }
   ],
   "source": [
    "import numpy as np\n",
    "\n",
    "array1 = np.array([1, 2, 3])\n",
    "array2 = np.array([4, 5, 6])\n",
    "\n",
    "result = array1 + array2\n",
    "print(result) \n"
   ]
  },
  {
   "cell_type": "markdown",
   "id": "a0628c06-bd3f-42ec-aadb-63cd9aee30cd",
   "metadata": {},
   "source": [
    "#### substraction"
   ]
  },
  {
   "cell_type": "code",
   "execution_count": 45,
   "id": "542df77f-8171-4341-9f28-7b8193a27c46",
   "metadata": {},
   "outputs": [
    {
     "name": "stdout",
     "output_type": "stream",
     "text": [
      "[ 6 15 24]\n"
     ]
    }
   ],
   "source": [
    "import numpy as np\n",
    "\n",
    "array1 = np.array([10, 20, 30])\n",
    "array2 = np.array([4, 5, 6])\n",
    "\n",
    "result = array1 - array2\n",
    "print(result) "
   ]
  },
  {
   "cell_type": "markdown",
   "id": "bc0c272e-3b92-4b9b-94bc-e93e80a1f635",
   "metadata": {},
   "source": [
    "#### multiplication"
   ]
  },
  {
   "cell_type": "code",
   "execution_count": 46,
   "id": "e0a65abf-a9e3-44c8-90ed-103541c4788b",
   "metadata": {},
   "outputs": [
    {
     "name": "stdout",
     "output_type": "stream",
     "text": [
      "[ 4 10 18]\n"
     ]
    }
   ],
   "source": [
    "import numpy as np\n",
    "\n",
    "array1 = np.array([1, 2, 3])\n",
    "array2 = np.array([4, 5, 6])\n",
    "\n",
    "result = array1 * array2\n",
    "print(result) "
   ]
  },
  {
   "cell_type": "markdown",
   "id": "b8501b1f-3d3b-4f2d-8800-74b895fd7d3d",
   "metadata": {},
   "source": [
    "#### division"
   ]
  },
  {
   "cell_type": "code",
   "execution_count": 48,
   "id": "5facabe4-03a0-44fa-9ad1-64de30777389",
   "metadata": {},
   "outputs": [
    {
     "name": "stdout",
     "output_type": "stream",
     "text": [
      "[0.25 0.4  0.5 ]\n"
     ]
    }
   ],
   "source": [
    "import numpy as np\n",
    "\n",
    "array1 = np.array([1, 2, 3])\n",
    "array2 = np.array([4, 5, 6])\n",
    "\n",
    "result = array1 / array2\n",
    "print(result) "
   ]
  },
  {
   "cell_type": "markdown",
   "id": "e58077f6-1425-4ea4-be29-0f93e2706109",
   "metadata": {},
   "source": [
    "#### 2d array"
   ]
  },
  {
   "cell_type": "code",
   "execution_count": 1,
   "id": "6d7241ac-8e09-49b0-bbea-ff59b7dcb2cc",
   "metadata": {},
   "outputs": [
    {
     "name": "stdout",
     "output_type": "stream",
     "text": [
      "[[ 11  24  39]\n",
      " [ 56  75  96]\n",
      " [119 144 171]]\n"
     ]
    }
   ],
   "source": [
    "import numpy as np\n",
    "\n",
    "array1 = np.array([[1,2,3],[4,5,6],[7,8,9]])\n",
    "array2 = np.array([[11,12,13],[14,15,16],[17,18,19]])\n",
    "\n",
    "result = array1 * array2\n",
    "print(result) "
   ]
  },
  {
   "cell_type": "code",
   "execution_count": null,
   "id": "2f0926bf-ea8b-4715-96ce-620e0df2589e",
   "metadata": {},
   "outputs": [],
   "source": []
  },
  {
   "cell_type": "code",
   "execution_count": 2,
   "id": "e1d13eb1-e644-46ee-b063-2d2e0cc97698",
   "metadata": {},
   "outputs": [
    {
     "name": "stdout",
     "output_type": "stream",
     "text": [
      "[[0.09090909 0.16666667 0.23076923]\n",
      " [0.28571429 0.33333333 0.375     ]\n",
      " [0.41176471 0.44444444 0.47368421]]\n"
     ]
    }
   ],
   "source": [
    "import numpy as np\n",
    "\n",
    "array1 = np.array([[1,2,3],[4,5,6],[7,8,9]])\n",
    "array2 = np.array([[11,12,13],[14,15,16],[17,18,19]])\n",
    "\n",
    "result = array1 / array2\n",
    "print(result) "
   ]
  },
  {
   "cell_type": "code",
   "execution_count": null,
   "id": "0a2b12a5-5f48-4bf6-b4fc-224809bea8ae",
   "metadata": {},
   "outputs": [],
   "source": []
  },
  {
   "cell_type": "code",
   "execution_count": null,
   "id": "e526c88d-2fa2-4b48-b9c0-bbe0cc52716a",
   "metadata": {},
   "outputs": [],
   "source": [
    "import numpy as np\n",
    "\n",
    "array1 = np.array([[1,2,3],[4,5,6],[7,8,9]])\n",
    "array2 = np.array([[11,12,13],[14,15,16],[17,18,19]])\n",
    "\n",
    "result = array1 - array2\n",
    "print(result) "
   ]
  },
  {
   "cell_type": "code",
   "execution_count": null,
   "id": "32a787d0-87e4-428a-afc0-66bf8b9a771d",
   "metadata": {},
   "outputs": [],
   "source": []
  },
  {
   "cell_type": "code",
   "execution_count": 4,
   "id": "88430995-a86e-4173-b5c7-7fd4697f14f8",
   "metadata": {},
   "outputs": [
    {
     "name": "stdout",
     "output_type": "stream",
     "text": [
      "[[23 14 16]\n",
      " [18 20 22]\n",
      " [24 26 28]]\n"
     ]
    }
   ],
   "source": [
    "import numpy as np\n",
    "\n",
    "array1 = np.array([[12,2,3],[4,5,6],[7,8,9]])\n",
    "array2 = np.array([[11,12,13],[14,15,16],[17,18,19]])\n",
    "\n",
    "result = array1 + array2\n",
    "print(result) "
   ]
  },
  {
   "cell_type": "code",
   "execution_count": null,
   "id": "2e9acde8-e2ef-4b65-b334-444d469b34fc",
   "metadata": {},
   "outputs": [],
   "source": []
  },
  {
   "cell_type": "markdown",
   "id": "923ef98a-04d6-4d82-ae82-74ac42b98a5a",
   "metadata": {},
   "source": [
    "#### 3d array"
   ]
  },
  {
   "cell_type": "code",
   "execution_count": 5,
   "id": "e83136a1-2924-4bb6-acb9-68562aead266",
   "metadata": {},
   "outputs": [
    {
     "name": "stdout",
     "output_type": "stream",
     "text": [
      "[[[12 14 16]\n",
      "  [18 20 22]\n",
      "  [24 26 28]]]\n"
     ]
    }
   ],
   "source": [
    "array1 = np.array([[[1,2,3],[4,5,6],[7,8,9]]])\n",
    "array2 = np.array([[[11,12,13],[14,15,16],[17,18,19]]])\n",
    "result = array1 + array2\n",
    "print(result)"
   ]
  },
  {
   "cell_type": "code",
   "execution_count": 8,
   "id": "ccbed202-a8d8-4e17-9b29-00105b1a9473",
   "metadata": {},
   "outputs": [
    {
     "name": "stdout",
     "output_type": "stream",
     "text": [
      "[[[ 11  24  39]\n",
      "  [ 56  75  96]\n",
      "  [119 144 171]]]\n"
     ]
    }
   ],
   "source": [
    "array1 = np.array([[[1,2,3],[4,5,6],[7,8,9]]])\n",
    "array2 = np.array([[[11,12,13],[14,15,16],[17,18,19]]])\n",
    "result = array1 * array2\n",
    "print(result)"
   ]
  },
  {
   "cell_type": "code",
   "execution_count": 9,
   "id": "6dc87247-f8ed-4c46-b8ab-fe491d41ae1d",
   "metadata": {},
   "outputs": [
    {
     "name": "stdout",
     "output_type": "stream",
     "text": [
      "[[[10 10 10]\n",
      "  [10 10 10]\n",
      "  [10 10 10]]]\n"
     ]
    }
   ],
   "source": [
    "array1 = np.array([[[11,12,13],[14,15,16],[17,18,19]]])\n",
    "array2 = np.array([[[1,2,3],[4,5,6],[7,8,9]]])\n",
    "result = array1 - array2\n",
    "print(result)\n"
   ]
  },
  {
   "cell_type": "code",
   "execution_count": 15,
   "id": "8b982f4c-55eb-4e83-8053-b3affb3f9f64",
   "metadata": {},
   "outputs": [
    {
     "name": "stdout",
     "output_type": "stream",
     "text": [
      "[[[1 2 3]\n",
      "  [4 5 6]\n",
      "  [7 8 9]]]\n",
      "[[[1 2]\n",
      "  [4 5]]]\n"
     ]
    }
   ],
   "source": [
    "import numpy as np\n",
    "array1 = np.array([[[1,2,3],[4,5,6],[7,8,9]]])\n",
    "print(array1)\n",
    "print(array1[0:1,0:2,:2])"
   ]
  },
  {
   "cell_type": "code",
   "execution_count": null,
   "id": "1f5fb057-99c1-4927-9f5f-ad949deaae3b",
   "metadata": {},
   "outputs": [],
   "source": [
    "import numpy as np\n",
    "array1 = np.array([[1,2,3,4,5])\n",
    "\n"
   ]
  },
  {
   "cell_type": "code",
   "execution_count": 8,
   "id": "872caad6-4220-4934-90e3-993a34db381c",
   "metadata": {},
   "outputs": [
    {
     "name": "stdout",
     "output_type": "stream",
     "text": [
      "[[[1 2 3]\n",
      "  [4 5 6]\n",
      "  [7 8 9]]]\n"
     ]
    }
   ],
   "source": [
    "array1 = np.array([[[1,2,3],[4,5,6],[7,8,9]]])\n",
    "print (array1)"
   ]
  },
  {
   "cell_type": "code",
   "execution_count": null,
   "id": "a84ad932-4b3e-4d93-aecc-58af7e177614",
   "metadata": {},
   "outputs": [],
   "source": []
  },
  {
   "cell_type": "markdown",
   "id": "ce6bc321-3e9c-4222-9f1f-6391cfec70c0",
   "metadata": {},
   "source": [
    "#### print the highest number using for loop"
   ]
  },
  {
   "cell_type": "code",
   "execution_count": null,
   "id": "f9c86331-cdf3-45b2-88db-1a68d2cbf1e3",
   "metadata": {},
   "outputs": [],
   "source": []
  },
  {
   "cell_type": "code",
   "execution_count": 1,
   "id": "cf498961-f0f7-4467-b0ad-1f2383592d88",
   "metadata": {},
   "outputs": [
    {
     "name": "stdout",
     "output_type": "stream",
     "text": [
      "80 is greater\n"
     ]
    }
   ],
   "source": [
    "import numpy as np \n",
    "arr=np.array([10,20,50,80,40,30])\n",
    "max=arr[0]\n",
    "for i in arr:\n",
    "    if i>max:\n",
    "        max=i\n",
    "print(f\"{max} is greater\")        "
   ]
  },
  {
   "cell_type": "code",
   "execution_count": null,
   "id": "58e55f8f-b3e7-41aa-9341-a65027ca2628",
   "metadata": {},
   "outputs": [],
   "source": []
  },
  {
   "cell_type": "markdown",
   "id": "531a0fa1-010b-4ddf-851b-29df20480178",
   "metadata": {},
   "source": [
    "#### print the smallest number using for loop"
   ]
  },
  {
   "cell_type": "code",
   "execution_count": 3,
   "id": "6b80e3bc-78dd-48c6-a306-cc037db59249",
   "metadata": {},
   "outputs": [
    {
     "name": "stdout",
     "output_type": "stream",
     "text": [
      "10 is smallerr\n"
     ]
    }
   ],
   "source": [
    "import numpy as np \n",
    "arr=np.array([10,20,50,80,40,30])\n",
    "min=arr[0]\n",
    "for i in arr:\n",
    "    if i<min:\n",
    "        min=i\n",
    "print(f\"{min} is smallerr\")     "
   ]
  },
  {
   "cell_type": "code",
   "execution_count": null,
   "id": "44c7e816-a94e-4da1-bb30-d809a89997dc",
   "metadata": {},
   "outputs": [],
   "source": []
  },
  {
   "cell_type": "markdown",
   "id": "59ffba0e-bedf-424b-9b1f-6920053f983d",
   "metadata": {},
   "source": [
    "###    mean of an array"
   ]
  },
  {
   "cell_type": "code",
   "execution_count": 4,
   "id": "cc8f5dd1-5443-4339-b55f-dd33bc11ce25",
   "metadata": {},
   "outputs": [
    {
     "name": "stdout",
     "output_type": "stream",
     "text": [
      "40.0\n"
     ]
    }
   ],
   "source": [
    "import numpy as np \n",
    "arr=np.array([10,20,50,80,40])\n",
    "print(arr.mean())"
   ]
  },
  {
   "cell_type": "code",
   "execution_count": null,
   "id": "fa2fd42e-602e-4014-8b92-d03c70e39e5b",
   "metadata": {},
   "outputs": [],
   "source": []
  },
  {
   "cell_type": "markdown",
   "id": "515dceed-0ccf-446b-8e10-3725f0d317b5",
   "metadata": {},
   "source": [
    "###    maximum element in an array"
   ]
  },
  {
   "cell_type": "code",
   "execution_count": 5,
   "id": "e541e7d4-74db-43d4-8839-d595ccaf842f",
   "metadata": {},
   "outputs": [
    {
     "name": "stdout",
     "output_type": "stream",
     "text": [
      "80\n"
     ]
    }
   ],
   "source": [
    "import numpy as np \n",
    "arr=np.array([10,20,50,80,40])\n",
    "print(arr.max())"
   ]
  },
  {
   "cell_type": "code",
   "execution_count": null,
   "id": "07b60758-6e68-44cf-b5cf-c0ed317ab9a9",
   "metadata": {},
   "outputs": [],
   "source": []
  },
  {
   "cell_type": "code",
   "execution_count": 7,
   "id": "1cc3b935-a709-4878-91a0-e65383478087",
   "metadata": {},
   "outputs": [
    {
     "name": "stdout",
     "output_type": "stream",
     "text": [
      "10\n",
      "20\n",
      "50\n",
      "80\n",
      "40\n"
     ]
    }
   ],
   "source": [
    "import numpy as np \n",
    "arr=np.array([10,20,50,80,40])\n",
    "for i in arr:\n",
    "    print(i)\n",
    "    "
   ]
  },
  {
   "cell_type": "code",
   "execution_count": null,
   "id": "6eca3bfc-8043-4cfb-a986-472658e965ea",
   "metadata": {},
   "outputs": [],
   "source": []
  },
  {
   "cell_type": "code",
   "execution_count": null,
   "id": "9e278ea9-aa2a-4d72-8cf8-b3e977bf9549",
   "metadata": {},
   "outputs": [],
   "source": [
    "import numpy as np \n",
    "arr=np.array([10,20,50,80,40])\n",
    "for i in arr:\n",
    "    print(i)\n",
    "    "
   ]
  },
  {
   "cell_type": "code",
   "execution_count": null,
   "id": "6ad0cc49-d2c2-48e9-ae44-ae571659660f",
   "metadata": {},
   "outputs": [],
   "source": []
  },
  {
   "cell_type": "code",
   "execution_count": 6,
   "id": "a4c627ca-1a89-4adc-be35-b6e3431b5ec4",
   "metadata": {},
   "outputs": [
    {
     "name": "stdout",
     "output_type": "stream",
     "text": [
      "10\n"
     ]
    }
   ],
   "source": [
    "import numpy as np \n",
    "arr=np.array([10,20,50,80,30])\n",
    "\n",
    "for i in arr:\n",
    "    max=arr[0]\n",
    "    if i >=max:\n",
    "        max=i\n",
    "print(max)\n",
    "    "
   ]
  },
  {
   "cell_type": "code",
   "execution_count": null,
   "id": "989a7b6a-bcd4-4cb0-9a33-d18c7a05338f",
   "metadata": {},
   "outputs": [],
   "source": []
  },
  {
   "cell_type": "markdown",
   "id": "2e43005d-e3b1-42c8-88e4-1fe4322aec78",
   "metadata": {},
   "source": [
    "#### minimum element in an array"
   ]
  },
  {
   "cell_type": "code",
   "execution_count": 2,
   "id": "fdb9809c-380b-4214-bffb-5f0ae7b26fb1",
   "metadata": {},
   "outputs": [
    {
     "name": "stdout",
     "output_type": "stream",
     "text": [
      "10\n"
     ]
    }
   ],
   "source": [
    "min=arr[0]\n",
    "for i in arr:\n",
    "    if i<min:\n",
    "        min=i\n",
    "print(min)        "
   ]
  },
  {
   "cell_type": "code",
   "execution_count": null,
   "id": "7e364a8e-f03b-400b-b80d-71538533b5e8",
   "metadata": {},
   "outputs": [],
   "source": []
  },
  {
   "cell_type": "markdown",
   "id": "55b87b63-d3dd-4aaa-a982-7aa06ffb373e",
   "metadata": {},
   "source": [
    "### standerd deviation"
   ]
  },
  {
   "cell_type": "code",
   "execution_count": 13,
   "id": "8d199181-c688-4f48-9a11-de6a320d10b2",
   "metadata": {},
   "outputs": [
    {
     "ename": "AttributeError",
     "evalue": "'builtin_function_or_method' object has no attribute 'std'",
     "output_type": "error",
     "traceback": [
      "\u001b[31m---------------------------------------------------------------------------\u001b[39m",
      "\u001b[31mAttributeError\u001b[39m                            Traceback (most recent call last)",
      "\u001b[36mCell\u001b[39m\u001b[36m \u001b[39m\u001b[32mIn[13]\u001b[39m\u001b[32m, line 1\u001b[39m\n\u001b[32m----> \u001b[39m\u001b[32m1\u001b[39m \u001b[38;5;28mprint\u001b[39m(\u001b[38;5;28;43msum\u001b[39;49m\u001b[43m.\u001b[49m\u001b[43mstd\u001b[49m())\n",
      "\u001b[31mAttributeError\u001b[39m: 'builtin_function_or_method' object has no attribute 'std'"
     ]
    }
   ],
   "source": [
    "print(sum.std())"
   ]
  },
  {
   "cell_type": "code",
   "execution_count": null,
   "id": "aab1a401-714c-470e-8895-512f8b6a6a40",
   "metadata": {},
   "outputs": [],
   "source": []
  },
  {
   "cell_type": "markdown",
   "id": "8b87f3fb-32ef-41c9-a8d4-159489d03260",
   "metadata": {},
   "source": [
    "### sorting of an array"
   ]
  },
  {
   "cell_type": "code",
   "execution_count": 14,
   "id": "d254f82b-30d6-48a2-b17e-0f67a4e235e2",
   "metadata": {},
   "outputs": [
    {
     "name": "stdout",
     "output_type": "stream",
     "text": [
      "[10 20 40 50 80]\n"
     ]
    }
   ],
   "source": [
    "print(np.sort(arr))"
   ]
  },
  {
   "cell_type": "code",
   "execution_count": null,
   "id": "67d3b1db-a92c-4b51-891c-5a2113f55c74",
   "metadata": {},
   "outputs": [],
   "source": []
  },
  {
   "cell_type": "code",
   "execution_count": null,
   "id": "f6e8c6ff-9b63-4ea6-addc-d2269913bd1e",
   "metadata": {},
   "outputs": [],
   "source": []
  },
  {
   "cell_type": "code",
   "execution_count": null,
   "id": "b1e8a20d-4561-4b2d-9699-898b2fd1a19f",
   "metadata": {},
   "outputs": [],
   "source": []
  }
 ],
 "metadata": {
  "kernelspec": {
   "display_name": "Python 3 (ipykernel)",
   "language": "python",
   "name": "python3"
  },
  "language_info": {
   "codemirror_mode": {
    "name": "ipython",
    "version": 3
   },
   "file_extension": ".py",
   "mimetype": "text/x-python",
   "name": "python",
   "nbconvert_exporter": "python",
   "pygments_lexer": "ipython3",
   "version": "3.12.4"
  }
 },
 "nbformat": 4,
 "nbformat_minor": 5
}
