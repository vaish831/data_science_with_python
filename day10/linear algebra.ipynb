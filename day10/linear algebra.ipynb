{
 "cells": [
  {
   "cell_type": "markdown",
   "id": "e15a7347-03ef-4683-8fa8-e46c3e793524",
   "metadata": {},
   "source": [
    "# linear algebra and machine learning"
   ]
  },
  {
   "cell_type": "markdown",
   "id": "23dfc948-33a3-4b26-8f82-ad0d91eda8f2",
   "metadata": {},
   "source": [
    "## vectors and dot products"
   ]
  },
  {
   "cell_type": "code",
   "execution_count": 45,
   "id": "6ae54b62-c26a-48a1-a42b-3397c9b82dc9",
   "metadata": {},
   "outputs": [],
   "source": [
    "import numpy as np\n"
   ]
  },
  {
   "cell_type": "code",
   "execution_count": 46,
   "id": "82925ddd-41d1-49c8-b9a2-9f9b97fd64af",
   "metadata": {},
   "outputs": [
    {
     "name": "stdout",
     "output_type": "stream",
     "text": [
      "[1 2 3] [4 5 6]\n"
     ]
    }
   ],
   "source": [
    "arr1=np.array([1,2,3])\n",
    "arr2=np.array([4,5,6])\n",
    "print(arr1,arr2)"
   ]
  },
  {
   "cell_type": "markdown",
   "id": "0edb1814-f2b6-46c7-9586-9f2b4e1f1fc5",
   "metadata": {},
   "source": [
    "## dot products"
   ]
  },
  {
   "cell_type": "code",
   "execution_count": 47,
   "id": "d75224f0-1059-46cf-9b8c-f55a8983390a",
   "metadata": {},
   "outputs": [
    {
     "name": "stdout",
     "output_type": "stream",
     "text": [
      "32\n"
     ]
    }
   ],
   "source": [
    "print(np.dot(arr1,arr2))"
   ]
  },
  {
   "cell_type": "markdown",
   "id": "d44d80aa-6c30-418d-83d6-582c1b306a17",
   "metadata": {},
   "source": [
    "### matrices and operations (2d)"
   ]
  },
  {
   "cell_type": "code",
   "execution_count": 48,
   "id": "76fb9ad8-1022-4ee0-8168-281117bcd2fe",
   "metadata": {},
   "outputs": [
    {
     "name": "stdout",
     "output_type": "stream",
     "text": [
      "[[1 2]\n",
      " [3 4]]\n",
      "[[5 6]\n",
      " [7 8]]\n"
     ]
    }
   ],
   "source": [
    "a=np.array([[1,2],[3,4]])\n",
    "b=np.array([[5,6],[7,8]])\n",
    "print(a)\n",
    "print(b)"
   ]
  },
  {
   "cell_type": "markdown",
   "id": "3ecc0169-7c0e-40a6-9067-b5d556a06b6e",
   "metadata": {},
   "source": [
    "## addition and substraction"
   ]
  },
  {
   "cell_type": "code",
   "execution_count": 49,
   "id": "ff00687a-025c-4e00-b362-03852d5b80cc",
   "metadata": {},
   "outputs": [
    {
     "name": "stdout",
     "output_type": "stream",
     "text": [
      "[[ 6  8]\n",
      " [10 12]]\n"
     ]
    }
   ],
   "source": [
    "print(a+b)"
   ]
  },
  {
   "cell_type": "code",
   "execution_count": 50,
   "id": "6eaafcd6-6b70-4d35-aeba-9c01260d169f",
   "metadata": {},
   "outputs": [
    {
     "name": "stdout",
     "output_type": "stream",
     "text": [
      "substraction of arr3 or arr4 \n",
      " [[-4 -4]\n",
      " [-4 -4]]\n"
     ]
    }
   ],
   "source": [
    "print(\"substraction of arr3 or arr4 \\n\",a-b)"
   ]
  },
  {
   "cell_type": "markdown",
   "id": "2dba4422-f7de-48e3-b043-40986983dc4d",
   "metadata": {},
   "source": [
    "## multiplication and division"
   ]
  },
  {
   "cell_type": "code",
   "execution_count": 51,
   "id": "4ac72e17-f961-4ce0-836f-206b0e21bf54",
   "metadata": {},
   "outputs": [
    {
     "name": "stdout",
     "output_type": "stream",
     "text": [
      "multiplicatiom of arr3 or arr4 \n",
      " [[ 5 12]\n",
      " [21 32]]\n"
     ]
    }
   ],
   "source": [
    "print(\"multiplicatiom of arr3 or arr4 \\n\",a*b)"
   ]
  },
  {
   "cell_type": "code",
   "execution_count": 52,
   "id": "d749650d-d2d3-4071-b112-85556fae125b",
   "metadata": {},
   "outputs": [
    {
     "name": "stdout",
     "output_type": "stream",
     "text": [
      "division of arr3 or arr4 \n",
      " [[0.2        0.33333333]\n",
      " [0.42857143 0.5       ]]\n"
     ]
    }
   ],
   "source": [
    "print(\"division of arr3 or arr4 \\n\",a/b)"
   ]
  },
  {
   "cell_type": "markdown",
   "id": "ad787f90-6df0-4aeb-bb95-4e3ead5b6512",
   "metadata": {},
   "source": [
    "## 3d array"
   ]
  },
  {
   "cell_type": "code",
   "execution_count": 53,
   "id": "2589108d-bd54-4ae8-98f1-dcb86fe906af",
   "metadata": {},
   "outputs": [
    {
     "name": "stdout",
     "output_type": "stream",
     "text": [
      "[[[1 2 3]\n",
      "  [4 5 6]\n",
      "  [7 8 9]]]\n",
      "[[[2 3 4]\n",
      "  [5 6 7]\n",
      "  [8 9 1]]]\n"
     ]
    }
   ],
   "source": [
    "c=np.array([[[1,2,3],[4,5,6],[7,8,9]]])\n",
    "d=np.array([[[2,3,4],[5,6,7],[8,9,1]]])\n",
    "print(c)\n",
    "print(d)"
   ]
  },
  {
   "cell_type": "code",
   "execution_count": 54,
   "id": "e39ce0cc-04d3-4cb2-943d-4fbcae4a5ee7",
   "metadata": {},
   "outputs": [
    {
     "name": "stdout",
     "output_type": "stream",
     "text": [
      "addition of c and d \n",
      " [[[ 3  5  7]\n",
      "  [ 9 11 13]\n",
      "  [15 17 10]]]\n"
     ]
    }
   ],
   "source": [
    "print(\"addition of c and d \\n\",c+d)"
   ]
  },
  {
   "cell_type": "code",
   "execution_count": 55,
   "id": "47685680-3e83-4768-a4f6-0bb89cfb0f31",
   "metadata": {},
   "outputs": [
    {
     "name": "stdout",
     "output_type": "stream",
     "text": [
      "substraction of c and d \n",
      " [[[-1 -1 -1]\n",
      "  [-1 -1 -1]\n",
      "  [-1 -1  8]]]\n"
     ]
    }
   ],
   "source": [
    "print(\"substraction of c and d \\n\",c-d)"
   ]
  },
  {
   "cell_type": "code",
   "execution_count": 56,
   "id": "a0775241-256b-4896-83a9-bbeefd61ed66",
   "metadata": {},
   "outputs": [
    {
     "name": "stdout",
     "output_type": "stream",
     "text": [
      "[[[1 2 3]\n",
      "  [4 5 6]\n",
      "  [7 8 9]]]\n",
      "[[[2 3 4]\n",
      "  [5 6 7]\n",
      "  [8 9 1]]]\n",
      "division of c and d \n",
      " [[[ 2  6 12]\n",
      "  [20 30 42]\n",
      "  [56 72  9]]]\n"
     ]
    }
   ],
   "source": [
    "print(c)\n",
    "print(d)\n",
    "print(\"division of c and d \\n\",c*d)"
   ]
  },
  {
   "cell_type": "markdown",
   "id": "1dac1455-2c19-4ec9-819e-7e5b27e76124",
   "metadata": {},
   "source": [
    "## dot product of 2d array"
   ]
  },
  {
   "cell_type": "code",
   "execution_count": 57,
   "id": "c82609f0-399a-4285-a8b0-8bdca6f74eb1",
   "metadata": {},
   "outputs": [
    {
     "name": "stdout",
     "output_type": "stream",
     "text": [
      "32\n"
     ]
    }
   ],
   "source": [
    "print(arr1@arr2)"
   ]
  },
  {
   "cell_type": "code",
   "execution_count": 58,
   "id": "7c55a2a1-7e7e-4657-b1fa-645aeddd329f",
   "metadata": {},
   "outputs": [
    {
     "name": "stdout",
     "output_type": "stream",
     "text": [
      "[[[1 2 3]\n",
      "  [4 5 6]\n",
      "  [7 8 9]]]\n",
      "[[[2 3 4]\n",
      "  [5 6 7]\n",
      "  [8 9 1]]]\n"
     ]
    }
   ],
   "source": [
    "print(c)\n",
    "print(d)"
   ]
  },
  {
   "cell_type": "code",
   "execution_count": 59,
   "id": "927b4e86-e80d-43b7-8d63-18a50125d443",
   "metadata": {},
   "outputs": [
    {
     "name": "stdout",
     "output_type": "stream",
     "text": [
      "[[[ 36  42  21]\n",
      "  [ 81  96  57]\n",
      "  [126 150  93]]]\n"
     ]
    }
   ],
   "source": [
    "print(c@d)\n"
   ]
  },
  {
   "cell_type": "markdown",
   "id": "b4ec11f1-07ab-49d0-9225-f7d1b32462a9",
   "metadata": {},
   "source": [
    "## TRANSPOSE OF MATRIX"
   ]
  },
  {
   "cell_type": "code",
   "execution_count": 60,
   "id": "e87b2053-1d4f-411f-b47f-d7abb614594f",
   "metadata": {},
   "outputs": [
    {
     "name": "stdout",
     "output_type": "stream",
     "text": [
      "[[1 3]\n",
      " [2 4]]\n"
     ]
    }
   ],
   "source": [
    "print(a.T)"
   ]
  },
  {
   "cell_type": "code",
   "execution_count": 61,
   "id": "3ab059c6-58e4-4f93-84db-94a182f8a891",
   "metadata": {},
   "outputs": [
    {
     "name": "stdout",
     "output_type": "stream",
     "text": [
      "[[[1 2 3]\n",
      "  [4 5 6]\n",
      "  [7 8 9]]]\n",
      "[[[1]\n",
      "  [4]\n",
      "  [7]]\n",
      "\n",
      " [[2]\n",
      "  [5]\n",
      "  [8]]\n",
      "\n",
      " [[3]\n",
      "  [6]\n",
      "  [9]]]\n"
     ]
    }
   ],
   "source": [
    "print(c)\n",
    "print(c.T)"
   ]
  },
  {
   "cell_type": "markdown",
   "id": "712c9638-bc02-446c-8850-2e571dc917be",
   "metadata": {},
   "source": [
    "## identity matrix"
   ]
  },
  {
   "cell_type": "code",
   "execution_count": 62,
   "id": "79b60501-fc6b-4352-b9cd-2d99ecfab647",
   "metadata": {
    "scrolled": true
   },
   "outputs": [
    {
     "name": "stdout",
     "output_type": "stream",
     "text": [
      "[[1. 0. 0. 0.]\n",
      " [0. 1. 0. 0.]\n",
      " [0. 0. 1. 0.]\n",
      " [0. 0. 0. 1.]]\n"
     ]
    }
   ],
   "source": [
    "I=np.eye(4)\n",
    "print(I)"
   ]
  },
  {
   "cell_type": "code",
   "execution_count": 63,
   "id": "213a5a18-71f3-4d93-856c-c92cc641a776",
   "metadata": {},
   "outputs": [
    {
     "name": "stdout",
     "output_type": "stream",
     "text": [
      "[[1. 0. 0.]\n",
      " [0. 1. 0.]\n",
      " [0. 0. 1.]]\n"
     ]
    }
   ],
   "source": [
    "I1=np.eye(3)\n",
    "print(I1)"
   ]
  },
  {
   "cell_type": "code",
   "execution_count": 64,
   "id": "11dad008-f541-46c0-95b5-4921629a6b32",
   "metadata": {},
   "outputs": [
    {
     "name": "stdout",
     "output_type": "stream",
     "text": [
      "[[1. 0.]\n",
      " [0. 1.]]\n"
     ]
    }
   ],
   "source": [
    "I2=np.eye(2)\n",
    "print(I2)"
   ]
  },
  {
   "cell_type": "markdown",
   "id": "9d04a8aa-41d3-4a6a-90f8-a01fc390e3f5",
   "metadata": {},
   "source": [
    "## inverse matrix"
   ]
  },
  {
   "cell_type": "code",
   "execution_count": 65,
   "id": "83ee303e-d4b7-4785-bed3-baf2f95405d2",
   "metadata": {},
   "outputs": [
    {
     "name": "stdout",
     "output_type": "stream",
     "text": [
      "[[1 2]\n",
      " [3 4]]\n",
      "[[-2.   1. ]\n",
      " [ 1.5 -0.5]]\n"
     ]
    }
   ],
   "source": [
    "a_inv = np.linalg.inv(a)\n",
    "print(a)\n",
    "print(a_inv)"
   ]
  },
  {
   "cell_type": "code",
   "execution_count": 66,
   "id": "2f66cab4-93af-48fe-aa2c-222753f0def8",
   "metadata": {},
   "outputs": [
    {
     "name": "stdout",
     "output_type": "stream",
     "text": [
      "[[2 3]\n",
      " [4 5]]\n",
      "[[6 7]\n",
      " [8 9]]\n"
     ]
    }
   ],
   "source": [
    "e=np.array([[2,3],[4,5]])\n",
    "f=np.array([[6,7],[8,9]])\n",
    "print(e)\n",
    "print(f)"
   ]
  },
  {
   "cell_type": "code",
   "execution_count": 67,
   "id": "c1bb0a1e-c865-45a2-a6a2-945205dd20c8",
   "metadata": {},
   "outputs": [
    {
     "name": "stdout",
     "output_type": "stream",
     "text": [
      "[[2 3]\n",
      " [4 5]]\n",
      "[[-2.5  1.5]\n",
      " [ 2.  -1. ]]\n"
     ]
    }
   ],
   "source": [
    "e_inv = np.linalg.inv(e)\n",
    "print(e)\n",
    "print(e_inv)"
   ]
  },
  {
   "cell_type": "code",
   "execution_count": 75,
   "id": "6dff462e-03bc-46d1-9981-170c08fce2eb",
   "metadata": {},
   "outputs": [
    {
     "name": "stdout",
     "output_type": "stream",
     "text": [
      "[[[ 4  5 16]\n",
      "  [ 9 18  7]\n",
      "  [ 1  2  3]]]\n",
      "[[[ 0.66666667  0.28333333 -4.21666667]\n",
      "  [-0.33333333 -0.06666667  1.93333333]\n",
      "  [ 0.         -0.05        0.45      ]]]\n"
     ]
    }
   ],
   "source": [
    "h=np.array([[[4,5,16],[9,18,7],[1,2,3]]])\n",
    "h_inv=np.linalg.inv(h)\n",
    "print(h)\n",
    "print(h_inv)"
   ]
  },
  {
   "cell_type": "markdown",
   "id": "672faf58-a708-4e42-90c5-8a1c3c3a3c9a",
   "metadata": {},
   "source": [
    "## determinant of matrix"
   ]
  },
  {
   "cell_type": "code",
   "execution_count": 70,
   "id": "4fc34cab-96fa-4371-a72c-a7c26590a877",
   "metadata": {},
   "outputs": [
    {
     "name": "stdout",
     "output_type": "stream",
     "text": [
      "[[2 3]\n",
      " [4 5]]\n",
      "-2.0\n"
     ]
    }
   ],
   "source": [
    "e_inv = np.linalg.det(e)\n",
    "print(e)\n",
    "print(e_inv)"
   ]
  },
  {
   "cell_type": "code",
   "execution_count": 71,
   "id": "2ba6efdc-32f9-4f52-b509-59a3cb3ac615",
   "metadata": {},
   "outputs": [
    {
     "name": "stdout",
     "output_type": "stream",
     "text": [
      "[[ 1 -2  3]\n",
      " [ 2  0  3]\n",
      " [ 1  5  4]]\n",
      "24.999999999999996\n"
     ]
    }
   ],
   "source": [
    "arr=np.array([[1,-2,3],[2,0,3],[1,5,4]])\n",
    "print(arr)\n",
    "e_inv = np.linalg.det(arr)\n",
    "print(e_inv)"
   ]
  },
  {
   "cell_type": "markdown",
   "id": "c1bf012a-6d7d-4129-9a73-ec4d05452eae",
   "metadata": {},
   "source": [
    "## eigen value and eigen vector"
   ]
  },
  {
   "cell_type": "code",
   "execution_count": 72,
   "id": "40e1c9ce-b348-4377-ba69-1e2cea68eec9",
   "metadata": {},
   "outputs": [
    {
     "name": "stdout",
     "output_type": "stream",
     "text": [
      "EIGENVALUES: [2. 7.]\n",
      "\n",
      "EIGENVECTORS: [[-0.70710678 -0.5547002 ]\n",
      " [ 0.70710678 -0.83205029]]\n"
     ]
    }
   ],
   "source": [
    "matrix=np.array([[4,2],[3,5]])\n",
    "eigenvalues,eigenvectors=np.linalg.eig(matrix)\n",
    "print(\"EIGENVALUES:\",eigenvalues)\n",
    "print(\"\\nEIGENVECTORS:\",eigenvectors)"
   ]
  },
  {
   "cell_type": "markdown",
   "id": "0fe578b8-f1dc-4b70-8e1a-56f41f90bf29",
   "metadata": {},
   "source": [
    "# 3d"
   ]
  },
  {
   "cell_type": "code",
   "execution_count": 73,
   "id": "b54bc9a2-ff31-4d1c-9872-07b6ff9e161c",
   "metadata": {},
   "outputs": [
    {
     "name": "stdout",
     "output_type": "stream",
     "text": [
      "EIGENVALUES: [[ 1.61168440e+01 -1.11684397e+00 -1.30367773e-15]]\n",
      "\n",
      "EIGENVECTORS: [[[-0.23197069 -0.78583024  0.40824829]\n",
      "  [-0.52532209 -0.08675134 -0.81649658]\n",
      "  [-0.8186735   0.61232756  0.40824829]]]\n"
     ]
    }
   ],
   "source": [
    "matrix1=np.array([[[1,2,3],[4,5,6],[7,8,9]]])\n",
    "eigenvalues,eigenvectors=np.linalg.eig(matrix1)\n",
    "print(\"EIGENVALUES:\",eigenvalues)\n",
    "print(\"\\nEIGENVECTORS:\",eigenvectors)"
   ]
  }
 ],
 "metadata": {
  "kernelspec": {
   "display_name": "Python 3 (ipykernel)",
   "language": "python",
   "name": "python3"
  },
  "language_info": {
   "codemirror_mode": {
    "name": "ipython",
    "version": 3
   },
   "file_extension": ".py",
   "mimetype": "text/x-python",
   "name": "python",
   "nbconvert_exporter": "python",
   "pygments_lexer": "ipython3",
   "version": "3.12.4"
  }
 },
 "nbformat": 4,
 "nbformat_minor": 5
}
