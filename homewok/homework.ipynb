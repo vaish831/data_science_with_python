{
 "cells": [
  {
   "cell_type": "markdown",
   "id": "ca8a1720-0d0b-49f4-b298-48fcfc592ba9",
   "metadata": {},
   "source": [
    "# variables"
   ]
  },
  {
   "cell_type": "code",
   "execution_count": 1,
   "id": "93ec837a-aaa1-4336-a493-93fa480c59cc",
   "metadata": {},
   "outputs": [
    {
     "name": "stdout",
     "output_type": "stream",
     "text": [
      "<class 'str'>\n"
     ]
    }
   ],
   "source": [
    "name=\"vaishnavi\"\n",
    "print(type(name))"
   ]
  },
  {
   "cell_type": "code",
   "execution_count": 58,
   "id": "fa3a4ec2-f9da-42c1-9bbc-1f5d5c67ea93",
   "metadata": {},
   "outputs": [
    {
     "name": "stdout",
     "output_type": "stream",
     "text": [
      "15.5\n",
      "<class 'float'>\n"
     ]
    }
   ],
   "source": [
    "a=10                                                  \n",
    "b=5.5\n",
    "c=(a+b)\n",
    "print(c)\n",
    "print(type(c))"
   ]
  },
  {
   "cell_type": "code",
   "execution_count": 3,
   "id": "be7bb79c-622a-4fe2-8e10-b99baa8f608f",
   "metadata": {},
   "outputs": [
    {
     "name": "stdout",
     "output_type": "stream",
     "text": [
      "True\n"
     ]
    }
   ],
   "source": [
    "answer=True\n",
    "print(answer)"
   ]
  },
  {
   "cell_type": "code",
   "execution_count": null,
   "id": "9d26683b-78d8-49b9-a918-91cdb9466cb4",
   "metadata": {},
   "outputs": [],
   "source": [
    "--------------------------------------------------------------------------------------------------------------------------"
   ]
  },
  {
   "cell_type": "markdown",
   "id": "79f532e3-53f0-4acb-9767-2676415166eb",
   "metadata": {},
   "source": [
    "# LIST"
   ]
  },
  {
   "cell_type": "code",
   "execution_count": 5,
   "id": "024463d9-08d4-46f9-98b1-902f7f3cc900",
   "metadata": {},
   "outputs": [
    {
     "name": "stdout",
     "output_type": "stream",
     "text": [
      "['pineapple', 'apple', 'kivi', 'banana']\n"
     ]
    }
   ],
   "source": [
    "fruits=[\"pineapple\",\"apple\",\"kivi\",\"banana\"]\n",
    "print(fruits)"
   ]
  },
  {
   "cell_type": "code",
   "execution_count": 17,
   "id": "c837e9e0-cfcb-425d-b0d3-bb9ac201a2ba",
   "metadata": {},
   "outputs": [
    {
     "name": "stdout",
     "output_type": "stream",
     "text": [
      "['pineapple', 'apple', 'kivi', 'banana', 'litchi']\n"
     ]
    },
    {
     "data": {
      "text/plain": [
       "2"
      ]
     },
     "execution_count": 17,
     "metadata": {},
     "output_type": "execute_result"
    }
   ],
   "source": [
    "fruits=[\"pineapple\",\"apple\",\"kivi\",\"banana\",\"litchi\"]\n",
    "print(fruits)\n",
    "fruits.index(\"kivi\")\n",
    "\n"
   ]
  },
  {
   "cell_type": "code",
   "execution_count": 18,
   "id": "20755772-3658-4a70-949f-70bf58e8c549",
   "metadata": {},
   "outputs": [
    {
     "name": "stdout",
     "output_type": "stream",
     "text": [
      "['pineapple', 'apple', 'kivi', 'banana', 'litchi', 'grapes']\n"
     ]
    }
   ],
   "source": [
    "fruits=[\"pineapple\",\"apple\",\"kivi\",\"banana\",\"litchi\"]\n",
    "fruits.append(\"grapes\")\n",
    "print(fruits)"
   ]
  },
  {
   "cell_type": "code",
   "execution_count": 20,
   "id": "e20f0c4b-cdcb-42aa-8a18-fae71615e467",
   "metadata": {},
   "outputs": [
    {
     "name": "stdout",
     "output_type": "stream",
     "text": [
      "['pineapple', 'banana', 'apple', 'kivi', 'litchi']\n"
     ]
    }
   ],
   "source": [
    "fruits=[\"pineapple\",\"apple\",\"kivi\",\"litchi\"]\n",
    "fruits.insert(1,\"banana\")\n",
    "print(fruits)"
   ]
  },
  {
   "cell_type": "code",
   "execution_count": 22,
   "id": "06d0f18d-1fd5-438f-9dcf-5e9f8b31e8ab",
   "metadata": {},
   "outputs": [
    {
     "name": "stdout",
     "output_type": "stream",
     "text": [
      "['pineapple', 'apple', 'kivi', 'litchi']\n"
     ]
    }
   ],
   "source": [
    "fruits=[\"pineapple\",\"banana\",\"apple\",\"kivi\",\"litchi\"]\n",
    "fruits.remove(\"banana\")\n",
    "print(fruits)"
   ]
  },
  {
   "cell_type": "code",
   "execution_count": 24,
   "id": "2749aed7-ece2-490a-ad22-479380802725",
   "metadata": {},
   "outputs": [
    {
     "name": "stdout",
     "output_type": "stream",
     "text": [
      "['pineapple', 'banana', 'apple', 'kivi']\n"
     ]
    }
   ],
   "source": [
    "fruits=[\"pineapple\",\"banana\",\"apple\",\"kivi\",\"litchi\"]\n",
    "fruits.pop(4)\n",
    "print(fruits)"
   ]
  },
  {
   "cell_type": "code",
   "execution_count": 25,
   "id": "98ef0e40-a7a8-4040-b1ce-79a207533f5f",
   "metadata": {},
   "outputs": [
    {
     "name": "stdout",
     "output_type": "stream",
     "text": [
      "['pineapple', 'banana', 'apple', 'kivi', 'litchi']\n"
     ]
    }
   ],
   "source": [
    "fruits=[\"pineapple\",\"banana\",\"apple\",\"kivi\",\"litchi\"]\n",
    "fruits.index(\"apple\")\n",
    "print(fruits)"
   ]
  },
  {
   "cell_type": "code",
   "execution_count": 29,
   "id": "e39a35de-073e-41f8-bf8f-7ef00e64f4f2",
   "metadata": {},
   "outputs": [
    {
     "data": {
      "text/plain": [
       "1"
      ]
     },
     "execution_count": 29,
     "metadata": {},
     "output_type": "execute_result"
    }
   ],
   "source": [
    "fruits=[\"pineapple\",\"banana\",\"apple\",\"kivi\",\"litchi\",\"mango\"]\n",
    "fruits.count(\"mango\")\n"
   ]
  },
  {
   "cell_type": "code",
   "execution_count": 27,
   "id": "99f87ac3-f582-4728-8022-1b27c678a457",
   "metadata": {},
   "outputs": [
    {
     "name": "stdout",
     "output_type": "stream",
     "text": [
      "['apple', 'banana', 'kivi', 'litchi', 'mango', 'pineapple']\n"
     ]
    }
   ],
   "source": [
    "fruits=[\"pineapple\",\"banana\",\"apple\",\"kivi\",\"litchi\",\"mango\"]\n",
    "fruits.sort()\n",
    "print(fruits)"
   ]
  },
  {
   "cell_type": "code",
   "execution_count": 28,
   "id": "6b1f87ea-8317-489f-afa3-0620eb26ed36",
   "metadata": {},
   "outputs": [
    {
     "name": "stdout",
     "output_type": "stream",
     "text": [
      "['mango', 'litchi', 'kivi', 'apple', 'banana', 'pineapple']\n"
     ]
    }
   ],
   "source": [
    "fruits=[\"pineapple\",\"banana\",\"apple\",\"kivi\",\"litchi\",\"mango\"]\n",
    "fruits.reverse()\n",
    "print(fruits)"
   ]
  },
  {
   "cell_type": "code",
   "execution_count": 30,
   "id": "324ff47e-f898-42cb-85e0-e89e27d05883",
   "metadata": {},
   "outputs": [
    {
     "name": "stdout",
     "output_type": "stream",
     "text": [
      "6\n"
     ]
    }
   ],
   "source": [
    "fruits=[\"pineapple\",\"banana\",\"apple\",\"kivi\",\"litchi\",\"mango\"]\n",
    "print(len(fruits))"
   ]
  },
  {
   "cell_type": "code",
   "execution_count": 32,
   "id": "de76a713-b232-429b-ad4c-da9772ac7b56",
   "metadata": {},
   "outputs": [
    {
     "name": "stdout",
     "output_type": "stream",
     "text": [
      "2\n"
     ]
    }
   ],
   "source": [
    "fruits=[\"pineapple\",\"banana\",\"apple\",\"kivi\",\"litchi\",\"mango\"]\n",
    "if \"apple\"in fruits:\n",
    "    print(fruits.index(\"apple\"))"
   ]
  },
  {
   "cell_type": "code",
   "execution_count": null,
   "id": "a9a52071-dbfa-44c5-bcfa-7e12d24e40b0",
   "metadata": {},
   "outputs": [],
   "source": [
    "--------------------------------------------------------------------------------------------------------------------------------------------"
   ]
  },
  {
   "cell_type": "markdown",
   "id": "dbe48c62-1281-4126-a395-4f8d56f916ad",
   "metadata": {},
   "source": [
    "# TUPLE"
   ]
  },
  {
   "cell_type": "code",
   "execution_count": 34,
   "id": "220be894-9469-4ce0-a489-771da2aeac60",
   "metadata": {},
   "outputs": [
    {
     "name": "stdout",
     "output_type": "stream",
     "text": [
      "('solapur', 'pune', 'mumbai', 'hydrabad')\n"
     ]
    }
   ],
   "source": [
    "city=(\"solapur\",\"pune\",\"mumbai\",\"hydrabad\")\n",
    "print(city)"
   ]
  },
  {
   "cell_type": "code",
   "execution_count": null,
   "id": "b6aba403-f037-4bc2-a96d-1b121cbea0dd",
   "metadata": {},
   "outputs": [],
   "source": [
    "city=(\"solapur\",\"pune\",\"mumbai\",\"hydrabad\")\n",
    "print(city[2])"
   ]
  },
  {
   "cell_type": "code",
   "execution_count": 39,
   "id": "c670ca8e-ead4-4d0d-9156-dc4925dd903a",
   "metadata": {},
   "outputs": [
    {
     "name": "stdout",
     "output_type": "stream",
     "text": [
      "2\n"
     ]
    }
   ],
   "source": [
    "city=(\"solapur\",\"pune\",\"mumbai\",\"hydrabad\",\"pune\")\n",
    "print(city.count(\"pune\"))\n"
   ]
  },
  {
   "cell_type": "code",
   "execution_count": 38,
   "id": "b2095c57-e373-47da-aa26-bcce1e5bee79",
   "metadata": {},
   "outputs": [
    {
     "name": "stdout",
     "output_type": "stream",
     "text": [
      "2\n"
     ]
    }
   ],
   "source": [
    "city=(\"solapur\",\"pune\",\"mumbai\",\"hydrabad\")\n",
    "print(city.index(\"mumbai\"))"
   ]
  },
  {
   "cell_type": "code",
   "execution_count": 40,
   "id": "30ad8362-a1e3-4c42-a757-a7a20a4c1b0a",
   "metadata": {},
   "outputs": [
    {
     "name": "stdout",
     "output_type": "stream",
     "text": [
      "4\n"
     ]
    }
   ],
   "source": [
    "city=(\"solapur\",\"pune\",\"mumbai\",\"hydrabad\")\n",
    "print(len(city))"
   ]
  },
  {
   "cell_type": "code",
   "execution_count": null,
   "id": "7ee38deb-cf1e-4dbc-9b66-790ea2627c25",
   "metadata": {},
   "outputs": [],
   "source": [
    "------------------------------------------------------------------------------------------------------------------------------"
   ]
  },
  {
   "cell_type": "markdown",
   "id": "94356f59-b8c6-497f-a512-2677688585bb",
   "metadata": {},
   "source": [
    "# SET"
   ]
  },
  {
   "cell_type": "code",
   "execution_count": 41,
   "id": "0a72a659-674e-4796-9e28-0ebd2f527120",
   "metadata": {},
   "outputs": [
    {
     "name": "stdout",
     "output_type": "stream",
     "text": [
      "{'yellow', 'purple', 'black', 'blue', 'red'}\n"
     ]
    }
   ],
   "source": [
    "colors={\"red\",\"yellow\",\"blue\",\"black\",\"purple\"}\n",
    "print(colors)"
   ]
  },
  {
   "cell_type": "code",
   "execution_count": 42,
   "id": "856eedf6-8754-4f5b-bc72-036325448626",
   "metadata": {},
   "outputs": [
    {
     "name": "stdout",
     "output_type": "stream",
     "text": [
      "{'purple', 'black', 'blue', 'red', 'yellow'}\n"
     ]
    }
   ],
   "source": [
    "colors={\"red\",\"yellow\",\"blue\",\"purple\"}\n",
    "colors.add(\"black\")\n",
    "print(colors)"
   ]
  },
  {
   "cell_type": "code",
   "execution_count": 44,
   "id": "e4c04b40-3289-48c9-a0d6-abed6e5da9fb",
   "metadata": {},
   "outputs": [
    {
     "name": "stdout",
     "output_type": "stream",
     "text": [
      "{'purple', 'blue', 'yellow'}\n"
     ]
    }
   ],
   "source": [
    "colors={\"red\",\"yellow\",\"blue\",\"purple\"}\n",
    "colors.remove(\"red\")\n",
    "print(colors)"
   ]
  },
  {
   "cell_type": "code",
   "execution_count": 46,
   "id": "87715343-4f54-4f63-94a1-db3ae0769e67",
   "metadata": {},
   "outputs": [
    {
     "name": "stdout",
     "output_type": "stream",
     "text": [
      "union {1, 2, 3, 4, 5}\n",
      "intersection {3}\n"
     ]
    }
   ],
   "source": [
    "set1={1,2,3}\n",
    "set2={3,4,5}\n",
    "print(\"union\",set1.union(set2))\n",
    "print(\"intersection\",set1.intersection(set2))\n",
    "      "
   ]
  },
  {
   "cell_type": "code",
   "execution_count": 47,
   "id": "07612714-518a-4ab7-8112-1a61d6ed9dc6",
   "metadata": {},
   "outputs": [
    {
     "name": "stdout",
     "output_type": "stream",
     "text": [
      "difference {1, 2}\n"
     ]
    }
   ],
   "source": [
    "set1={1,2,3}\n",
    "set2={3,4,5}\n",
    "print(\"difference\",set1.difference(set2))"
   ]
  },
  {
   "cell_type": "code",
   "execution_count": 48,
   "id": "1496befd-390d-4b9e-bc42-14e912388531",
   "metadata": {},
   "outputs": [
    {
     "name": "stdout",
     "output_type": "stream",
     "text": [
      "5\n"
     ]
    }
   ],
   "source": [
    "colors={\"red\",\"yellow\",\"blue\",\"black\",\"purple\"}\n",
    "print(len(colors))"
   ]
  },
  {
   "cell_type": "code",
   "execution_count": null,
   "id": "735a355a-e67e-483a-9af2-343c857c3730",
   "metadata": {},
   "outputs": [],
   "source": [
    "----------------------------------------------------------------------------------------------------------------------------\n"
   ]
  },
  {
   "cell_type": "markdown",
   "id": "53dc096f-7c49-4e18-8b61-6744e142a74f",
   "metadata": {},
   "source": [
    "# dictionary"
   ]
  },
  {
   "cell_type": "code",
   "execution_count": 51,
   "id": "5e30b474-99f7-424d-89ad-3265211abdaa",
   "metadata": {},
   "outputs": [
    {
     "name": "stdout",
     "output_type": "stream",
     "text": [
      "{'english': 95, 'science': 89, 'hindi': 99}\n"
     ]
    }
   ],
   "source": [
    "marks={\n",
    "    \"english\":95,\n",
    "    \"science\":89,\n",
    "    \"hindi\":99,\n",
    "}\n",
    "print(marks)"
   ]
  },
  {
   "cell_type": "code",
   "execution_count": 52,
   "id": "ecef3e7e-eb60-47dd-994d-a9e93404f2ac",
   "metadata": {},
   "outputs": [
    {
     "name": "stdout",
     "output_type": "stream",
     "text": [
      "89\n"
     ]
    }
   ],
   "source": [
    "marks={\n",
    "    \"english\":95,\n",
    "    \"science\":89,\n",
    "    \"hindi\":99,\n",
    "}\n",
    "print(marks[\"science\"])"
   ]
  },
  {
   "cell_type": "code",
   "execution_count": 53,
   "id": "7c0ad784-7054-4a77-b49c-0804da079edf",
   "metadata": {},
   "outputs": [
    {
     "name": "stdout",
     "output_type": "stream",
     "text": [
      "dict_keys(['english', 'science', 'hindi'])\n"
     ]
    }
   ],
   "source": [
    "marks={\n",
    "    \"english\":95,\n",
    "    \"science\":89,\n",
    "    \"hindi\":99,\n",
    "}\n",
    "print(marks.keys())"
   ]
  },
  {
   "cell_type": "code",
   "execution_count": 54,
   "id": "b0e76836-5f26-41e8-be05-77d809ddb9f7",
   "metadata": {},
   "outputs": [
    {
     "name": "stdout",
     "output_type": "stream",
     "text": [
      "dict_values([95, 89, 99])\n"
     ]
    }
   ],
   "source": [
    "marks={\n",
    "    \"english\":95,\n",
    "    \"science\":89,\n",
    "    \"hindi\":99,\n",
    "}\n",
    "print(marks.values())"
   ]
  },
  {
   "cell_type": "code",
   "execution_count": 55,
   "id": "0b59ea00-b38c-4732-b027-c46c0aefacff",
   "metadata": {},
   "outputs": [
    {
     "name": "stdout",
     "output_type": "stream",
     "text": [
      "dict_items([('english', 95), ('science', 89), ('hindi', 99)])\n"
     ]
    }
   ],
   "source": [
    "marks={\n",
    "    \"english\":95,\n",
    "    \"science\":89,\n",
    "    \"hindi\":99,\n",
    "}\n",
    "print(marks.items())"
   ]
  },
  {
   "cell_type": "code",
   "execution_count": 56,
   "id": "0ae91fb0-b355-41f3-b60d-d77317f8f489",
   "metadata": {},
   "outputs": [
    {
     "name": "stdout",
     "output_type": "stream",
     "text": [
      "{'english': 95, 'science': 98, 'hindi': 99}\n"
     ]
    }
   ],
   "source": [
    "marks={\n",
    "    \"english\":95,\n",
    "    \"science\":89,\n",
    "    \"hindi\":99,\n",
    "}\n",
    "marks[\"science\"]=98\n",
    "print(marks)"
   ]
  },
  {
   "cell_type": "code",
   "execution_count": 57,
   "id": "4dc757a5-59c4-486e-afc4-54caf2f660c4",
   "metadata": {},
   "outputs": [
    {
     "name": "stdout",
     "output_type": "stream",
     "text": [
      "{'english': 95, 'science': 89, 'hindi': 99, 'histroy': 88}\n"
     ]
    }
   ],
   "source": [
    "marks={\n",
    "    \"english\":95,\n",
    "    \"science\":89,\n",
    "    \"hindi\":99,\n",
    "}\n",
    "marks[\"histroy\"]=88\n",
    "print(marks)"
   ]
  },
  {
   "cell_type": "code",
   "execution_count": null,
   "id": "538151d9-07f3-407c-a7a6-7fd85b0bba0b",
   "metadata": {},
   "outputs": [],
   "source": []
  }
 ],
 "metadata": {
  "kernelspec": {
   "display_name": "Python 3 (ipykernel)",
   "language": "python",
   "name": "python3"
  },
  "language_info": {
   "codemirror_mode": {
    "name": "ipython",
    "version": 3
   },
   "file_extension": ".py",
   "mimetype": "text/x-python",
   "name": "python",
   "nbconvert_exporter": "python",
   "pygments_lexer": "ipython3",
   "version": "3.12.4"
  }
 },
 "nbformat": 4,
 "nbformat_minor": 5
}
