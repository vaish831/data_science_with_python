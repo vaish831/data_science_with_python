{
 "cells": [
  {
   "cell_type": "markdown",
   "id": "5d63ec16-69e0-494e-9491-ebdf794607ac",
   "metadata": {},
   "source": [
    "## pandas"
   ]
  },
  {
   "cell_type": "code",
   "execution_count": 272,
   "id": "a0fc98b5-0559-449c-80d8-bf50312ee4a1",
   "metadata": {},
   "outputs": [],
   "source": [
    "import pandas as pd"
   ]
  },
  {
   "cell_type": "code",
   "execution_count": 273,
   "id": "ac4a7d30-c18d-44d8-a4b6-d418ffe7bd05",
   "metadata": {},
   "outputs": [
    {
     "name": "stdout",
     "output_type": "stream",
     "text": [
      "0     5\n",
      "1     2\n",
      "2    82\n",
      "3    84\n",
      "4    12\n",
      "dtype: int64\n"
     ]
    }
   ],
   "source": [
    "array=[5,2,82,84,12]\n",
    "series=pd.Series(array)\n",
    "print(series)"
   ]
  },
  {
   "cell_type": "code",
   "execution_count": 274,
   "id": "c2aac5c5-806f-4f5c-ac85-da41656c7ffb",
   "metadata": {},
   "outputs": [
    {
     "name": "stdout",
     "output_type": "stream",
     "text": [
      "a     5\n",
      "b     2\n",
      "c    82\n",
      "4    84\n",
      "5    12\n",
      "dtype: int64\n"
     ]
    }
   ],
   "source": [
    "custom_series=pd.Series(array,index=[\"a\",\"b\",\"c\",4,5])\n",
    "print(custom_series)"
   ]
  },
  {
   "cell_type": "markdown",
   "id": "27e1cf1c-59de-4439-a6e9-56fd81ca46bc",
   "metadata": {},
   "source": [
    "### dataframes"
   ]
  },
  {
   "cell_type": "code",
   "execution_count": 275,
   "id": "ee73ca6a-9eac-416d-b4a6-f88625ae9d0d",
   "metadata": {},
   "outputs": [
    {
     "name": "stdout",
     "output_type": "stream",
     "text": [
      "        name       dept  marks  passed\n",
      "0  vaishnavi        BCA     99    True\n",
      "1     tanuja        MCA     88   False\n",
      "2     shreya        MBA     95    True\n",
      "3       adil  DEVELOPER     97   False\n"
     ]
    }
   ],
   "source": [
    "data={\n",
    "    \"name\":[\"vaishnavi\",\"tanuja\",\"shreya\",\"adil\"],\n",
    "    \"dept\":[\"BCA\",\"MCA\",\"MBA\",\"DEVELOPER\"],\n",
    "    \"marks\":[99,88,95,97],\n",
    "    \"passed\":[True,False,True,False]\n",
    "}\n",
    "df=pd.DataFrame(data)\n",
    "print(df)"
   ]
  },
  {
   "cell_type": "markdown",
   "id": "628382df-e393-443f-9124-9da053e710ea",
   "metadata": {},
   "source": [
    "### filtering data"
   ]
  },
  {
   "cell_type": "markdown",
   "id": "8f4a7f58-0d30-400a-844b-38c36f3a16a3",
   "metadata": {},
   "source": [
    "high_score=df[df[\"marks\"]>90]\n",
    "print(high_score)"
   ]
  },
  {
   "cell_type": "markdown",
   "id": "5a11a8e2-3a36-434a-b7ee-b1c52174b322",
   "metadata": {},
   "source": [
    "passed=df[df[\"passed\"]==True]\n",
    "print(passed)"
   ]
  },
  {
   "cell_type": "markdown",
   "id": "c727f973-2a85-4c94-883e-ce1eddf59c18",
   "metadata": {},
   "source": [
    "# HOMEWORK"
   ]
  },
  {
   "cell_type": "markdown",
   "id": "006df475-6a2a-469c-8beb-7251d2ec9db0",
   "metadata": {},
   "source": [
    "### print the first 3 rows from the dataframe"
   ]
  },
  {
   "cell_type": "code",
   "execution_count": 276,
   "id": "a647471d-0fb2-4e33-80f1-fe9fd60fa238",
   "metadata": {},
   "outputs": [
    {
     "name": "stdout",
     "output_type": "stream",
     "text": [
      "        name dept  marks  passed subjects\n",
      "0  vaishnavi  BCA     99    True       CN\n",
      "1     tanuja  MCA     88   False       OS\n",
      "2     shreya  MBA     95    True     DBMS\n"
     ]
    }
   ],
   "source": [
    "\n",
    "data={\n",
    "    \"name\":[\"vaishnavi\",\"tanuja\",\"shreya\",\"adil\"],\n",
    "    \"dept\":[\"BCA\",\"MCA\",\"MBA\",\"DEVELOPER\"],\n",
    "    \"marks\":[99,88,95,97],\n",
    "    \"passed\":[True,False,True,False],\n",
    "    \"subjects\":[\"CN\",\"OS\",\"DBMS\",\"HTML\"]\n",
    "}\n",
    "df=pd.DataFrame(data)\n",
    "print(df.head(3))"
   ]
  },
  {
   "cell_type": "code",
   "execution_count": 277,
   "id": "84091608-9d73-4625-9244-3727008d76fe",
   "metadata": {
    "scrolled": true
   },
   "outputs": [
    {
     "name": "stdout",
     "output_type": "stream",
     "text": [
      "name        vaishnavi\n",
      "dept              BCA\n",
      "marks              99\n",
      "passed           True\n",
      "subjects           CN\n",
      "Name: 0, dtype: object\n",
      "----------\n",
      "name        tanuja\n",
      "dept           MCA\n",
      "marks           88\n",
      "passed       False\n",
      "subjects        OS\n",
      "Name: 1, dtype: object\n",
      "----------\n",
      "name        shreya\n",
      "dept           MBA\n",
      "marks           95\n",
      "passed        True\n",
      "subjects      DBMS\n",
      "Name: 2, dtype: object\n",
      "----------\n"
     ]
    }
   ],
   "source": [
    "data={\n",
    "    \"name\":[\"vaishnavi\",\"tanuja\",\"shreya\",\"adil\"],\n",
    "    \"dept\":[\"BCA\",\"MCA\",\"MBA\",\"DEVELOPER\"],\n",
    "    \"marks\":[99,88,95,97],\n",
    "    \"passed\":[True,False,True,False],\n",
    "    \"subjects\":[\"CN\",\"OS\",\"DBMS\",\"HTML\"]\n",
    "}\n",
    "df=pd.DataFrame(data)\n",
    "for i in range(3):\n",
    "    print(df.iloc[i])\n",
    "    print(\"----------\")"
   ]
  },
  {
   "cell_type": "code",
   "execution_count": 278,
   "id": "9cfefff6-063c-4703-bef6-65011844ecdf",
   "metadata": {},
   "outputs": [
    {
     "name": "stdout",
     "output_type": "stream",
     "text": [
      "name        vaishnavi\n",
      "dept              BCA\n",
      "marks              99\n",
      "passed           True\n",
      "subjects           CN\n",
      "Name: 0, dtype: object\n",
      "----------\n",
      "name        tanuja\n",
      "dept           MCA\n",
      "marks           88\n",
      "passed       False\n",
      "subjects        OS\n",
      "Name: 1, dtype: object\n",
      "----------\n",
      "name        shreya\n",
      "dept           MBA\n",
      "marks           95\n",
      "passed        True\n",
      "subjects      DBMS\n",
      "Name: 2, dtype: object\n",
      "----------\n"
     ]
    }
   ],
   "source": [
    "data={\n",
    "    \"name\":[\"vaishnavi\",\"tanuja\",\"shreya\",\"adil\"],\n",
    "    \"dept\":[\"BCA\",\"MCA\",\"MBA\",\"DEVELOPER\"],\n",
    "    \"marks\":[99,88,95,97],\n",
    "    \"passed\":[True,False,True,False],\n",
    "    \"subjects\":[\"CN\",\"OS\",\"DBMS\",\"HTML\"]\n",
    "}\n",
    "df=pd.DataFrame(data)\n",
    "i=0\n",
    "while i<3:\n",
    "     print(df.iloc[i])\n",
    "    \n",
    "     print(\"----------\")\n",
    "     i+=1\n",
    "    "
   ]
  },
  {
   "cell_type": "code",
   "execution_count": 279,
   "id": "577c18ce-8e18-4ed2-86d7-6af89884c4d4",
   "metadata": {},
   "outputs": [
    {
     "name": "stdout",
     "output_type": "stream",
     "text": [
      "        name dept  marks  passed subjects\n",
      "0  vaishnavi  BCA     99    True       CN\n",
      "1     tanuja  MCA     88   False       OS\n",
      "2     shreya  MBA     95    True     DBMS\n"
     ]
    }
   ],
   "source": [
    "data={\n",
    "    \"name\":[\"vaishnavi\",\"tanuja\",\"shreya\",\"adil\"],\n",
    "    \"dept\":[\"BCA\",\"MCA\",\"MBA\",\"DEVELOPER\"],\n",
    "    \"marks\":[99,88,95,97],\n",
    "    \"passed\":[True,False,True,False],\n",
    "    \"subjects\":[\"CN\",\"OS\",\"DBMS\",\"HTML\"]\n",
    "}\n",
    "df=pd.DataFrame(data)\n",
    "print(df[:3])"
   ]
  },
  {
   "cell_type": "code",
   "execution_count": 280,
   "id": "9acb7fc1-8c07-4101-8701-9412eafd2b7a",
   "metadata": {},
   "outputs": [
    {
     "name": "stdout",
     "output_type": "stream",
     "text": [
      "        name dept  marks  passed subjects\n",
      "0  vaishnavi  BCA     99    True       CN\n",
      "1     tanuja  MCA     88   False       OS\n",
      "2     shreya  MBA     95    True     DBMS\n"
     ]
    }
   ],
   "source": [
    "data={\n",
    "    \"name\":[\"vaishnavi\",\"tanuja\",\"shreya\",\"adil\"],\n",
    "    \"dept\":[\"BCA\",\"MCA\",\"MBA\",\"DEVELOPER\"],\n",
    "    \"marks\":[99,88,95,97],\n",
    "    \"passed\":[True,False,True,False],\n",
    "    \"subjects\":[\"CN\",\"OS\",\"DBMS\",\"HTML\"]\n",
    "}\n",
    "df=pd.DataFrame(data)\n",
    "print(df[0:3])"
   ]
  },
  {
   "cell_type": "markdown",
   "id": "2e109da2-8ab1-4155-8cde-4670fb7a72b6",
   "metadata": {},
   "source": [
    "### get the data type of each coloumn"
   ]
  },
  {
   "cell_type": "code",
   "execution_count": 281,
   "id": "688a5c55-e918-4aa8-a145-35675bb3c20e",
   "metadata": {},
   "outputs": [
    {
     "name": "stdout",
     "output_type": "stream",
     "text": [
      "name        object\n",
      "dept        object\n",
      "marks        int64\n",
      "passed        bool\n",
      "subjects    object\n",
      "dtype: object\n"
     ]
    }
   ],
   "source": [
    "data={\n",
    "    \"name\":[\"vaishnavi\",\"tanuja\",\"shreya\",\"adil\"],\n",
    "    \"dept\":[\"BCA\",\"MCA\",\"MBA\",\"DEVELOPER\"],\n",
    "    \"marks\":[99,88,95,97],\n",
    "    \"passed\":[True,False,True,False],\n",
    "    \"subjects\":[\"CN\",\"OS\",\"DBMS\",\"HTML\"]\n",
    "}\n",
    "df=pd.DataFrame(data)\n",
    "print(df.dtypes)"
   ]
  },
  {
   "cell_type": "markdown",
   "id": "7acad183-3c09-4dee-af29-d1fd919ed1e0",
   "metadata": {},
   "source": [
    "### show the summary statistics of the dataframe"
   ]
  },
  {
   "cell_type": "code",
   "execution_count": 282,
   "id": "52f58f08-b5e4-42cc-b262-1c2286e5d547",
   "metadata": {},
   "outputs": [
    {
     "name": "stdout",
     "output_type": "stream",
     "text": [
      "           marks\n",
      "count   5.000000\n",
      "mean   91.400000\n",
      "std     8.561542\n",
      "min    78.000000\n",
      "25%    88.000000\n",
      "50%    95.000000\n",
      "75%    97.000000\n",
      "max    99.000000\n"
     ]
    }
   ],
   "source": [
    "data={\n",
    "    \"name\":[\"vaishnavi\",\"tanuja\",\"shreya\",\"adil\",\"raj\"],\n",
    "    \"dept\":[\"BCA\",\"MCA\",\"MBA\",\"DEVELOPER\",\"MBA\"],\n",
    "    \"marks\":[99,88,95,97,78],\n",
    "    \"passed\":[True,False,True,False,False],\n",
    "    \"subjects\":[\"CN\",\"OS\",\"DBMS\",\"HTML\",\"OS\"]\n",
    "}\n",
    "df=pd.DataFrame(data)\n",
    "print(df.describe())"
   ]
  },
  {
   "cell_type": "markdown",
   "id": "f023f3e7-0f04-48fe-be9a-9f137a06fcfc",
   "metadata": {},
   "source": [
    "## grouping"
   ]
  },
  {
   "cell_type": "code",
   "execution_count": 283,
   "id": "b90856b4-7ef7-456b-9fa3-b695e82ec89c",
   "metadata": {},
   "outputs": [
    {
     "name": "stdout",
     "output_type": "stream",
     "text": [
      "        name       dept  marks  passed subjects\n",
      "0  vaishnavi        BCA     99    True       CN\n",
      "1     tanuja        MCA     88   False       OS\n",
      "2     shreya        MBA     95    True     DBMS\n",
      "3       adil  DEVELOPER     97   False     HTML\n",
      "4        raj        MBA     78   False       OS\n"
     ]
    }
   ],
   "source": [
    "print(df)"
   ]
  },
  {
   "cell_type": "code",
   "execution_count": 284,
   "id": "58e3d85a-fd39-4999-8695-4f266e90533e",
   "metadata": {},
   "outputs": [
    {
     "name": "stdout",
     "output_type": "stream",
     "text": [
      "dept\n",
      "BCA          99.0\n",
      "DEVELOPER    97.0\n",
      "MBA          86.5\n",
      "MCA          88.0\n",
      "Name: marks, dtype: float64\n"
     ]
    }
   ],
   "source": [
    "avg_marks=df.groupby(\"dept\")[\"marks\"].mean()\n",
    "print(avg_marks)"
   ]
  },
  {
   "cell_type": "code",
   "execution_count": 285,
   "id": "b43dce04-b91e-4ab5-928e-bdc54c3e0bb0",
   "metadata": {},
   "outputs": [
    {
     "name": "stdout",
     "output_type": "stream",
     "text": [
      "dept\n",
      "BCA          1\n",
      "DEVELOPER    1\n",
      "MBA          2\n",
      "MCA          1\n",
      "Name: name, dtype: int64\n"
     ]
    }
   ],
   "source": [
    "no_of_std=df.groupby(\"dept\")[\"name\"].count()\n",
    "print(no_of_std)"
   ]
  },
  {
   "cell_type": "code",
   "execution_count": 286,
   "id": "983aa55e-8d73-4732-a8c3-f8a6d6340317",
   "metadata": {},
   "outputs": [
    {
     "name": "stdout",
     "output_type": "stream",
     "text": [
      "dept\n",
      "BCA          1\n",
      "DEVELOPER    0\n",
      "MBA          1\n",
      "MCA          0\n",
      "Name: passed, dtype: int64\n"
     ]
    }
   ],
   "source": [
    "std_passed=df.groupby(\"dept\")[\"passed\"].sum()\n",
    "print(std_passed)"
   ]
  },
  {
   "cell_type": "markdown",
   "id": "4589bb33-e5d8-4a81-b854-8ce9e818f0a7",
   "metadata": {},
   "source": [
    "## add new coloumn based on condition"
   ]
  },
  {
   "cell_type": "code",
   "execution_count": 287,
   "id": "dffe1641-1ca0-419b-80cc-e2d9ab5e7181",
   "metadata": {},
   "outputs": [
    {
     "name": "stdout",
     "output_type": "stream",
     "text": [
      "        name       dept  marks  passed subjects grades\n",
      "0  vaishnavi        BCA     99    True       CN      A\n",
      "1     tanuja        MCA     88   False       OS      B\n",
      "2     shreya        MBA     95    True     DBMS      A\n",
      "3       adil  DEVELOPER     97   False     HTML      A\n",
      "4        raj        MBA     78   False       OS      B\n"
     ]
    }
   ],
   "source": [
    "df[\"grades\"]=[\"A\" if marks>90 else \"B\" for marks in df[\"marks\"]]\n",
    "print(df)"
   ]
  },
  {
   "cell_type": "code",
   "execution_count": 288,
   "id": "5de354f8-a580-4eac-9f38-5d66a516eb39",
   "metadata": {},
   "outputs": [],
   "source": [
    "df.to_csv(\"students_details.csv\",index=False)"
   ]
  },
  {
   "cell_type": "code",
   "execution_count": 289,
   "id": "23dee4f7-6e56-4463-9789-2eb05d9244f4",
   "metadata": {},
   "outputs": [],
   "source": [
    "df.to_html(\"students_details.html\")"
   ]
  },
  {
   "cell_type": "code",
   "execution_count": 290,
   "id": "62778ddb-1ace-4f59-91d3-4bfa3d616b4b",
   "metadata": {},
   "outputs": [],
   "source": [
    "loaded_df=pd.read_csv(\"laptop_data_100.csv\")\n",
    "\n",
    "\n"
   ]
  },
  {
   "cell_type": "code",
   "execution_count": 291,
   "id": "9af4c74e-6b6e-45f5-8408-7b817970e8b5",
   "metadata": {},
   "outputs": [
    {
     "name": "stdout",
     "output_type": "stream",
     "text": [
      "      Brand   RAM    Processor  Price (INR)\n",
      "0    Lenovo  32GB     Intel i3       111771\n",
      "1        HP   4GB  AMD Ryzen 7        55518\n",
      "2      Asus   8GB     Intel i3       146392\n",
      "3   Samsung  16GB     Intel i7        66439\n",
      "4   Samsung   4GB     Apple M1       134511\n",
      "..      ...   ...          ...          ...\n",
      "95    Apple   4GB     Intel i3        54382\n",
      "96       HP  16GB     Intel i7        31901\n",
      "97      MSI  32GB  AMD Ryzen 7        72488\n",
      "98      MSI  16GB     Intel i5        57212\n",
      "99     Asus  32GB     Intel i5       135270\n",
      "\n",
      "[100 rows x 4 columns]\n"
     ]
    }
   ],
   "source": [
    "print(loaded_df)"
   ]
  },
  {
   "cell_type": "code",
   "execution_count": 292,
   "id": "f2b28c82-d975-41ab-9c66-ba8ff69b9de5",
   "metadata": {},
   "outputs": [
    {
     "data": {
      "text/html": [
       "<div>\n",
       "<style scoped>\n",
       "    .dataframe tbody tr th:only-of-type {\n",
       "        vertical-align: middle;\n",
       "    }\n",
       "\n",
       "    .dataframe tbody tr th {\n",
       "        vertical-align: top;\n",
       "    }\n",
       "\n",
       "    .dataframe thead th {\n",
       "        text-align: right;\n",
       "    }\n",
       "</style>\n",
       "<table border=\"1\" class=\"dataframe\">\n",
       "  <thead>\n",
       "    <tr style=\"text-align: right;\">\n",
       "      <th></th>\n",
       "      <th>Brand</th>\n",
       "      <th>RAM</th>\n",
       "      <th>Processor</th>\n",
       "      <th>Price (INR)</th>\n",
       "    </tr>\n",
       "  </thead>\n",
       "  <tbody>\n",
       "    <tr>\n",
       "      <th>0</th>\n",
       "      <td>Lenovo</td>\n",
       "      <td>32GB</td>\n",
       "      <td>Intel i3</td>\n",
       "      <td>111771</td>\n",
       "    </tr>\n",
       "    <tr>\n",
       "      <th>1</th>\n",
       "      <td>HP</td>\n",
       "      <td>4GB</td>\n",
       "      <td>AMD Ryzen 7</td>\n",
       "      <td>55518</td>\n",
       "    </tr>\n",
       "    <tr>\n",
       "      <th>2</th>\n",
       "      <td>Asus</td>\n",
       "      <td>8GB</td>\n",
       "      <td>Intel i3</td>\n",
       "      <td>146392</td>\n",
       "    </tr>\n",
       "    <tr>\n",
       "      <th>3</th>\n",
       "      <td>Samsung</td>\n",
       "      <td>16GB</td>\n",
       "      <td>Intel i7</td>\n",
       "      <td>66439</td>\n",
       "    </tr>\n",
       "    <tr>\n",
       "      <th>4</th>\n",
       "      <td>Samsung</td>\n",
       "      <td>4GB</td>\n",
       "      <td>Apple M1</td>\n",
       "      <td>134511</td>\n",
       "    </tr>\n",
       "  </tbody>\n",
       "</table>\n",
       "</div>"
      ],
      "text/plain": [
       "     Brand   RAM    Processor  Price (INR)\n",
       "0   Lenovo  32GB     Intel i3       111771\n",
       "1       HP   4GB  AMD Ryzen 7        55518\n",
       "2     Asus   8GB     Intel i3       146392\n",
       "3  Samsung  16GB     Intel i7        66439\n",
       "4  Samsung   4GB     Apple M1       134511"
      ]
     },
     "execution_count": 292,
     "metadata": {},
     "output_type": "execute_result"
    }
   ],
   "source": [
    "loaded_df.head()"
   ]
  },
  {
   "cell_type": "markdown",
   "id": "73a18496-9753-4da1-9e0e-a5b0fed3f705",
   "metadata": {},
   "source": [
    "##  print Samsung laptops priced between  50000 to 70000 \n"
   ]
  },
  {
   "cell_type": "code",
   "execution_count": 293,
   "id": "a232c4a7-f2aa-4219-8cc3-39ff79ac690d",
   "metadata": {},
   "outputs": [
    {
     "name": "stdout",
     "output_type": "stream",
     "text": [
      "      Brand   RAM    Processor  Price (INR)\n",
      "3   Samsung  16GB     Intel i7        66439\n",
      "53  Samsung   4GB     Intel i9        56269\n",
      "76  Samsung   4GB  AMD Ryzen 5        66345\n",
      "87  Samsung  16GB     Intel i7        51176\n"
     ]
    }
   ],
   "source": [
    "samsung_filtered = loaded_df[(loaded_df['Brand'] == 'Samsung') & \n",
    "                             (loaded_df['Price (INR)'] >= 50000) & \n",
    "                             (loaded_df['Price (INR)'] <= 70000)]\n",
    "print(samsung_filtered)"
   ]
  },
  {
   "cell_type": "markdown",
   "id": "a75ba082-f36b-475c-bee2-ce61c05e8ad2",
   "metadata": {},
   "source": [
    "##  total price of lenovo company laptops whose price is between  50k and 1lkah"
   ]
  },
  {
   "cell_type": "code",
   "execution_count": 294,
   "id": "9749e2c7-eebd-4888-8383-22195bf12a02",
   "metadata": {},
   "outputs": [
    {
     "name": "stdout",
     "output_type": "stream",
     "text": [
      "Total Lenovo Price rs50,000 rs1,00,000: 158858\n"
     ]
    }
   ],
   "source": [
    "lenovo_total = loaded_df[\n",
    "    (loaded_df['Brand'] == 'Lenovo') & \n",
    "    (loaded_df['Price (INR)'] >= 50000) & \n",
    "    (loaded_df['Price (INR)'] <= 100000)\n",
    "]['Price (INR)'].sum()\n",
    "\n",
    "print(\"Total Lenovo Price rs50,000 rs1,00,000:\", lenovo_total)"
   ]
  }
 ],
 "metadata": {
  "kernelspec": {
   "display_name": "Python 3 (ipykernel)",
   "language": "python",
   "name": "python3"
  },
  "language_info": {
   "codemirror_mode": {
    "name": "ipython",
    "version": 3
   },
   "file_extension": ".py",
   "mimetype": "text/x-python",
   "name": "python",
   "nbconvert_exporter": "python",
   "pygments_lexer": "ipython3",
   "version": "3.12.4"
  }
 },
 "nbformat": 4,
 "nbformat_minor": 5
}
