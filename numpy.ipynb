{
 "cells": [
  {
   "cell_type": "markdown",
   "id": "049e9c25-d482-4df3-b1ee-a51f6772362c",
   "metadata": {},
   "source": [
    "### numpy"
   ]
  },
  {
   "cell_type": "markdown",
   "id": "e8307723-a194-4c31-936a-46f5f9175d9b",
   "metadata": {},
   "source": [
    "#### 1d array"
   ]
  },
  {
   "cell_type": "code",
   "execution_count": 21,
   "id": "d9f297e3-f776-4443-8200-dd8b7dd4021d",
   "metadata": {},
   "outputs": [
    {
     "name": "stdout",
     "output_type": "stream",
     "text": [
      "[1 2 3 4 5 6]\n"
     ]
    }
   ],
   "source": [
    "import numpy as np               #1d array\n",
    "array=np.array([1,2,3,4,5,6])\n",
    "print(array)\n",
    "\n"
   ]
  },
  {
   "cell_type": "code",
   "execution_count": 22,
   "id": "3fc8741a-cb90-48a0-a146-c639104105f7",
   "metadata": {},
   "outputs": [
    {
     "name": "stdout",
     "output_type": "stream",
     "text": [
      "(6,)\n"
     ]
    }
   ],
   "source": [
    "import numpy as np\n",
    "array=np.array([1,2,3,4,5,6])\n",
    "print(array.shape)"
   ]
  },
  {
   "cell_type": "markdown",
   "id": "9993e797-f923-4e22-9f06-c6db71f83919",
   "metadata": {},
   "source": [
    "#### 2d array"
   ]
  },
  {
   "cell_type": "code",
   "execution_count": 5,
   "id": "28c119b7-8a96-44e8-9d72-ac66e6ac7d4c",
   "metadata": {},
   "outputs": [
    {
     "name": "stdout",
     "output_type": "stream",
     "text": [
      "[[1 2 3]\n",
      " [4 5 6]\n",
      " [7 8 9]]\n"
     ]
    }
   ],
   "source": [
    "darray=np.array([[1,2,3],[4,5,6],[7,8,9]])\n",
    "print(darray)"
   ]
  },
  {
   "cell_type": "code",
   "execution_count": 6,
   "id": "221a932f-180b-42b1-b1a6-444f44c3f234",
   "metadata": {},
   "outputs": [
    {
     "name": "stdout",
     "output_type": "stream",
     "text": [
      "[[1 2 3]\n",
      " [4 5 6]\n",
      " [7 8 9]]\n",
      "(3, 3)\n"
     ]
    }
   ],
   "source": [
    "darray=np.array([[1,2,3],[4,5,6],[7,8,9]])\n",
    "print(darray)\n",
    "print(darray.shape)"
   ]
  },
  {
   "cell_type": "markdown",
   "id": "9f9457cc-25a6-4972-8136-3945d232de35",
   "metadata": {},
   "source": [
    "#### to find out dimension of array"
   ]
  },
  {
   "cell_type": "code",
   "execution_count": 7,
   "id": "64ff37d3-645a-4389-ac19-47fbe4bcdd0d",
   "metadata": {},
   "outputs": [
    {
     "name": "stdout",
     "output_type": "stream",
     "text": [
      "2\n"
     ]
    }
   ],
   "source": [
    "print(darray.ndim)"
   ]
  },
  {
   "cell_type": "markdown",
   "id": "853ad19f-7eb6-4987-ae2f-99f0fb2c75c5",
   "metadata": {},
   "source": [
    "#### 3d array"
   ]
  },
  {
   "cell_type": "code",
   "execution_count": 10,
   "id": "8fdb6a07-8ceb-45b5-afe5-3a0c4d07f5e5",
   "metadata": {},
   "outputs": [
    {
     "name": "stdout",
     "output_type": "stream",
     "text": [
      "[[[1 2 3]\n",
      "  [4 5 6]\n",
      "  [7 8 9]]]\n"
     ]
    }
   ],
   "source": [
    "\n",
    "tarray=np.array([[[1,2,3],[4,5,6],[7,8,9]]])\n",
    "print(tarray)"
   ]
  },
  {
   "cell_type": "code",
   "execution_count": 11,
   "id": "abe0af64-a00e-4b07-acdd-5360097b3712",
   "metadata": {},
   "outputs": [
    {
     "name": "stdout",
     "output_type": "stream",
     "text": [
      "3\n"
     ]
    }
   ],
   "source": [
    "print(tarray.ndim)"
   ]
  },
  {
   "cell_type": "markdown",
   "id": "f93ceea9-47a7-473f-9c73-29f1ae85f001",
   "metadata": {},
   "source": [
    "#### to find out size of array"
   ]
  },
  {
   "cell_type": "code",
   "execution_count": 12,
   "id": "68d29020-e984-492c-a175-d74d5e7fe4ca",
   "metadata": {},
   "outputs": [
    {
     "name": "stdout",
     "output_type": "stream",
     "text": [
      "9\n"
     ]
    }
   ],
   "source": [
    "print(tarray.size)"
   ]
  },
  {
   "cell_type": "code",
   "execution_count": 18,
   "id": "3522357f-5a4a-4beb-82ef-e3cedafcd3fb",
   "metadata": {},
   "outputs": [
    {
     "name": "stdout",
     "output_type": "stream",
     "text": [
      "6\n"
     ]
    }
   ],
   "source": [
    "print(array.size)"
   ]
  },
  {
   "cell_type": "markdown",
   "id": "1bab939f-c186-4ab4-9c11-1c86a4bd6d09",
   "metadata": {},
   "source": [
    "#### to access element of array"
   ]
  },
  {
   "cell_type": "code",
   "execution_count": 17,
   "id": "d2691f87-c0f0-45a3-9498-eb5bb9e00812",
   "metadata": {},
   "outputs": [
    {
     "name": "stdout",
     "output_type": "stream",
     "text": [
      "2\n"
     ]
    }
   ],
   "source": [
    "print(array[1])"
   ]
  },
  {
   "cell_type": "markdown",
   "id": "9673db4a-fd3d-4c57-90d9-28e2ad562ed6",
   "metadata": {},
   "source": [
    "#### slicing of array"
   ]
  },
  {
   "cell_type": "code",
   "execution_count": 20,
   "id": "46214ab2-5a27-4af2-915e-92389370bfed",
   "metadata": {},
   "outputs": [
    {
     "name": "stdout",
     "output_type": "stream",
     "text": [
      "[3 4 5]\n"
     ]
    }
   ],
   "source": [
    "print(array[2:5])"
   ]
  },
  {
   "cell_type": "code",
   "execution_count": null,
   "id": "cc3a3978-4df0-435f-8eef-b443d3dd676c",
   "metadata": {},
   "outputs": [],
   "source": []
  },
  {
   "cell_type": "markdown",
   "id": "88688784-ce5e-4257-bee1-0bfbbf457d32",
   "metadata": {},
   "source": [
    "#### reshape()"
   ]
  },
  {
   "cell_type": "code",
   "execution_count": null,
   "id": "5c041854-9527-457c-b685-ed68ed022295",
   "metadata": {},
   "outputs": [],
   "source": [
    "#Convert the following 1-D array with 12 elements into a 2-D array.\n",
    "\n",
    "#The outermost dimension will have 4 arrays, each with 3 element"
   ]
  },
  {
   "cell_type": "code",
   "execution_count": null,
   "id": "47df6735-f350-4ee3-8435-d4b4aa2196cb",
   "metadata": {},
   "outputs": [],
   "source": []
  },
  {
   "cell_type": "code",
   "execution_count": 23,
   "id": "d5a648b9-d14f-4d39-9c42-5931d8e14119",
   "metadata": {},
   "outputs": [
    {
     "name": "stdout",
     "output_type": "stream",
     "text": [
      "[[ 1  2  3]\n",
      " [ 4  5  6]\n",
      " [ 7  8  9]\n",
      " [10 11 12]]\n"
     ]
    }
   ],
   "source": [
    "import numpy as np\n",
    "arr = np.array([1, 2, 3, 4, 5, 6, 7, 8, 9, 10, 11, 12])\n",
    "newarr = arr.reshape(4, 3)\n",
    "print(newarr)"
   ]
  },
  {
   "cell_type": "code",
   "execution_count": null,
   "id": "19b46455-27ba-429d-bfd5-9ed9df462995",
   "metadata": {},
   "outputs": [],
   "source": [
    "#Convert the following 1-D array with 12 elements into a 3-D array.\n",
    "\n",
    "#The outermost dimension will have 2 arrays that contains 3 arrays, each with 2 elements"
   ]
  },
  {
   "cell_type": "code",
   "execution_count": 24,
   "id": "7b3888ed-b238-41c3-858c-5131b8f52ad6",
   "metadata": {},
   "outputs": [
    {
     "name": "stdout",
     "output_type": "stream",
     "text": [
      "[[[ 1  2]\n",
      "  [ 3  4]\n",
      "  [ 5  6]]\n",
      "\n",
      " [[ 7  8]\n",
      "  [ 9 10]\n",
      "  [11 12]]]\n"
     ]
    }
   ],
   "source": [
    "import numpy as np\n",
    "arr = np.array([1, 2, 3, 4, 5, 6, 7, 8, 9, 10, 11, 12])\n",
    "newarr = arr.reshape(2, 3, 2)\n",
    "print(newarr)\n"
   ]
  },
  {
   "cell_type": "markdown",
   "id": "da68c0ed-a994-423f-8450-3279a5340a6f",
   "metadata": {},
   "source": [
    "#### to find out the data type of the array"
   ]
  },
  {
   "cell_type": "code",
   "execution_count": 3,
   "id": "89e862d7-d624-4062-9d31-62a190d68c4a",
   "metadata": {},
   "outputs": [
    {
     "ename": "NameError",
     "evalue": "name 'arr' is not defined",
     "output_type": "error",
     "traceback": [
      "\u001b[31m---------------------------------------------------------------------------\u001b[39m",
      "\u001b[31mNameError\u001b[39m                                 Traceback (most recent call last)",
      "\u001b[36mCell\u001b[39m\u001b[36m \u001b[39m\u001b[32mIn[3]\u001b[39m\u001b[32m, line 1\u001b[39m\n\u001b[32m----> \u001b[39m\u001b[32m1\u001b[39m \u001b[38;5;28mprint\u001b[39m(\u001b[43marr\u001b[49m.dtype)\n",
      "\u001b[31mNameError\u001b[39m: name 'arr' is not defined"
     ]
    }
   ],
   "source": [
    "print(arr.dtype)"
   ]
  },
  {
   "cell_type": "markdown",
   "id": "763e7123-ceaa-4858-bb5d-88a025e3cc6e",
   "metadata": {},
   "source": [
    "#### access single element from an array"
   ]
  },
  {
   "cell_type": "code",
   "execution_count": 4,
   "id": "390d115f-4fd5-4447-a103-b5ed80133d9e",
   "metadata": {},
   "outputs": [
    {
     "ename": "NameError",
     "evalue": "name 'array' is not defined",
     "output_type": "error",
     "traceback": [
      "\u001b[31m---------------------------------------------------------------------------\u001b[39m",
      "\u001b[31mNameError\u001b[39m                                 Traceback (most recent call last)",
      "\u001b[36mCell\u001b[39m\u001b[36m \u001b[39m\u001b[32mIn[4]\u001b[39m\u001b[32m, line 1\u001b[39m\n\u001b[32m----> \u001b[39m\u001b[32m1\u001b[39m \u001b[38;5;28mprint\u001b[39m(\u001b[43marray\u001b[49m[\u001b[32m1\u001b[39m])\n",
      "\u001b[31mNameError\u001b[39m: name 'array' is not defined"
     ]
    }
   ],
   "source": [
    "print(array[1])"
   ]
  },
  {
   "cell_type": "code",
   "execution_count": null,
   "id": "e2f2cc7b-6539-4031-9149-69806a73de9e",
   "metadata": {},
   "outputs": [],
   "source": []
  },
  {
   "cell_type": "code",
   "execution_count": null,
   "id": "cf4455d2-f535-4fd2-8ed5-bcfc94631641",
   "metadata": {},
   "outputs": [],
   "source": []
  },
  {
   "cell_type": "code",
   "execution_count": null,
   "id": "0db83ea1-b8ec-4d8a-87e4-b7426c1bdf25",
   "metadata": {},
   "outputs": [],
   "source": []
  }
 ],
 "metadata": {
  "kernelspec": {
   "display_name": "Python 3 (ipykernel)",
   "language": "python",
   "name": "python3"
  },
  "language_info": {
   "codemirror_mode": {
    "name": "ipython",
    "version": 3
   },
   "file_extension": ".py",
   "mimetype": "text/x-python",
   "name": "python",
   "nbconvert_exporter": "python",
   "pygments_lexer": "ipython3",
   "version": "3.12.4"
  }
 },
 "nbformat": 4,
 "nbformat_minor": 5
}
