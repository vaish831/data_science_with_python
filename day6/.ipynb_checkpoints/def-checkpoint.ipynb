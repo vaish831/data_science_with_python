{
 "cells": [
  {
   "cell_type": "markdown",
   "id": "0881d998-f4a7-4920-a59b-de5661a5a664",
   "metadata": {},
   "source": [
    "## homework"
   ]
  },
  {
   "cell_type": "markdown",
   "id": "164f4e63-1226-421f-a59f-91d1198dd35e",
   "metadata": {},
   "source": [
    "##### create a function to check if the given number is positive negative or zero using function without argument"
   ]
  },
  {
   "cell_type": "code",
   "execution_count": 7,
   "id": "2f89b570-a5b9-41de-9e3d-4e9db5739087",
   "metadata": {},
   "outputs": [
    {
     "name": "stdin",
     "output_type": "stream",
     "text": [
      "enter a number 2\n"
     ]
    },
    {
     "name": "stdout",
     "output_type": "stream",
     "text": [
      "the number is positive\n"
     ]
    }
   ],
   "source": [
    "def number():                       #without arguments\n",
    "    number=int(input(\"enter a number\"))\n",
    "    if number >0:\n",
    "        print(\"the number is positive\")\n",
    "    elif number==0:\n",
    "        print(\"the number is zero\")\n",
    "    else :\n",
    "        print(\"the number is negative\")\n",
    "number()        \n",
    "    "
   ]
  },
  {
   "cell_type": "code",
   "execution_count": null,
   "id": "54b9a62f-8067-4880-ba54-e61d1474a6ac",
   "metadata": {},
   "outputs": [],
   "source": []
  },
  {
   "cell_type": "markdown",
   "id": "0bcef735-7ea7-4cf2-934d-08bc80c4bfc2",
   "metadata": {},
   "source": [
    "##### check even odd using function with arguments"
   ]
  },
  {
   "cell_type": "code",
   "execution_count": 18,
   "id": "6a18226d-9072-41f8-a5a2-0d90cc09c29a",
   "metadata": {},
   "outputs": [
    {
     "name": "stdout",
     "output_type": "stream",
     "text": [
      "the number is odd\n"
     ]
    }
   ],
   "source": [
    "def even_odd(number):       #with arguments\n",
    "    if number%2==0:\n",
    "       print(\"the number is even\")\n",
    "    else:\n",
    "       print(\"the number is odd\")\n",
    "even_odd(21)    "
   ]
  },
  {
   "cell_type": "code",
   "execution_count": null,
   "id": "a8f0d2b9-6782-422c-8583-c20de4cf2c83",
   "metadata": {},
   "outputs": [],
   "source": []
  },
  {
   "cell_type": "markdown",
   "id": "bed2b013-2da9-4449-9613-b20ebcb3354b",
   "metadata": {},
   "source": [
    "##### find all even number in a given range and store in a list"
   ]
  },
  {
   "cell_type": "code",
   "execution_count": 17,
   "id": "f97c25c1-cb30-4b9b-b18d-556244441663",
   "metadata": {},
   "outputs": [
    {
     "name": "stdout",
     "output_type": "stream",
     "text": [
      "Even numbers: [10, 12, 14, 16, 18, 20, 22, 24, 26, 28, 30, 32, 34]\n"
     ]
    }
   ],
   "source": [
    "def find_even_no(start,end):    #with arguments\n",
    "    list=[]\n",
    "    for i in range (start,end +1):\n",
    "        if i%2==0:\n",
    "         list.append(i)\n",
    "    print(\"Even numbers:\", list)  \n",
    "find_even_no(10,35)    \n",
    "         \n",
    "    \n",
    "    "
   ]
  },
  {
   "cell_type": "code",
   "execution_count": null,
   "id": "a8162b8d-f882-4be1-90d2-92fa6e27c044",
   "metadata": {},
   "outputs": [],
   "source": []
  },
  {
   "cell_type": "markdown",
   "id": "eecbb0b0-6215-40bb-b2ee-335aabf16c70",
   "metadata": {},
   "source": [
    "##### function to iterate over a dictionary and print each element"
   ]
  },
  {
   "cell_type": "code",
   "execution_count": null,
   "id": "45699f45-c2d4-4929-bdd6-32c90378b940",
   "metadata": {},
   "outputs": [],
   "source": [
    "def print_dictionary()  #without arguments\n",
    "     information={\n",
    "         \"name\"=\"vaishnavi\",\n",
    "         \"age\"=20,\n",
    "         \"city\"=\"hydrabad\"\n",
    "     }\n",
    "\n",
    "\n"
   ]
  },
  {
   "cell_type": "code",
   "execution_count": null,
   "id": "daf86d65-f591-4601-86d5-65502ee77303",
   "metadata": {},
   "outputs": [],
   "source": []
  },
  {
   "cell_type": "code",
   "execution_count": null,
   "id": "7be79be5-1a45-4fac-98bc-fcbe0f94d8e1",
   "metadata": {},
   "outputs": [],
   "source": []
  },
  {
   "cell_type": "code",
   "execution_count": null,
   "id": "a9cf9e22-d370-4cd3-b44e-5c30c7e10564",
   "metadata": {},
   "outputs": [],
   "source": []
  },
  {
   "cell_type": "code",
   "execution_count": null,
   "id": "d0fa58a3-e041-45ee-9c50-26f86c226f14",
   "metadata": {},
   "outputs": [],
   "source": []
  },
  {
   "cell_type": "code",
   "execution_count": null,
   "id": "7daf0689-20b3-48b7-ae34-a7ed89641936",
   "metadata": {},
   "outputs": [],
   "source": []
  },
  {
   "cell_type": "code",
   "execution_count": null,
   "id": "d5375625-4906-4e25-8dbb-7439f6709b8a",
   "metadata": {},
   "outputs": [],
   "source": []
  },
  {
   "cell_type": "code",
   "execution_count": null,
   "id": "32e45350-d944-4fd4-aab5-31af61da00b5",
   "metadata": {},
   "outputs": [],
   "source": []
  },
  {
   "cell_type": "code",
   "execution_count": null,
   "id": "7f2bfee2-2b1e-4d5a-9712-53df7d358627",
   "metadata": {},
   "outputs": [],
   "source": []
  }
 ],
 "metadata": {
  "kernelspec": {
   "display_name": "Python 3 (ipykernel)",
   "language": "python",
   "name": "python3"
  },
  "language_info": {
   "codemirror_mode": {
    "name": "ipython",
    "version": 3
   },
   "file_extension": ".py",
   "mimetype": "text/x-python",
   "name": "python",
   "nbconvert_exporter": "python",
   "pygments_lexer": "ipython3",
   "version": "3.12.4"
  }
 },
 "nbformat": 4,
 "nbformat_minor": 5
}
