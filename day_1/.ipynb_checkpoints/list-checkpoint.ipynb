{
 "cells": [
  {
   "cell_type": "markdown",
   "id": "dbadbce0-1b65-4485-948e-719070bd083c",
   "metadata": {},
   "source": [
    "#list"
   ]
  },
  {
   "cell_type": "code",
   "execution_count": 36,
   "id": "0e228801-1d63-4670-bfcb-26e6a35cd388",
   "metadata": {},
   "outputs": [
    {
     "name": "stdout",
     "output_type": "stream",
     "text": [
      "[1, 2, 3, 4, 5]\n"
     ]
    }
   ],
   "source": [
    "a=[1,2,3,4]\n",
    "a.append(5)\n",
    "print(a)"
   ]
  },
  {
   "cell_type": "code",
   "execution_count": 6,
   "id": "0dc39f47-8e68-4fdb-b0c1-e3c00e0b8406",
   "metadata": {},
   "outputs": [
    {
     "name": "stdout",
     "output_type": "stream",
     "text": [
      "['maharashtra', 13, 'adil', 10.56, True]\n",
      "['maharashtra', 13, 'adil', 10.56, True, 'ali']\n"
     ]
    }
   ],
   "source": [
    "random=[\"maharashtra\",13,\"adil\",10.56,True]#append\n",
    "print(random)\n",
    "random.append(\"ali\")\n",
    "print(random)"
   ]
  },
  {
   "cell_type": "code",
   "execution_count": null,
   "id": "2bac15fb-dcfb-44cc-a6d5-a242c81a07d9",
   "metadata": {},
   "outputs": [],
   "source": [
    "random=[\"maharashtra\",13,\"adil\",10.56,True]"
   ]
  },
  {
   "cell_type": "code",
   "execution_count": 9,
   "id": "4887fc0c-4bb3-40b8-8ea7-b8e59791a909",
   "metadata": {},
   "outputs": [
    {
     "name": "stdout",
     "output_type": "stream",
     "text": [
      "['maharashtra', 13, 'adil', 10.56, True]\n",
      "['maharashtra', 13, 'adil', 10.56, True, 'HARSH']\n"
     ]
    }
   ],
   "source": [
    "random=[\"maharashtra\",13,\"adil\",10.56,True]#insert\n",
    "print(random)\n",
    "random.insert(5,\"HARSH\")\n",
    "print(random)\n"
   ]
  },
  {
   "cell_type": "code",
   "execution_count": 10,
   "id": "14fdd8ac-290e-442d-990f-a45c36cddbe3",
   "metadata": {},
   "outputs": [
    {
     "name": "stdout",
     "output_type": "stream",
     "text": [
      "['maharashtra', 13, 'adil', 10.56, True]\n",
      "['maharashtra', 13, 10.56, True]\n"
     ]
    }
   ],
   "source": [
    "random=[\"maharashtra\",13,\"adil\",10.56,True]#remove\n",
    "print(random)\n",
    "random.remove(\"adil\")\n",
    "print(random)\n"
   ]
  },
  {
   "cell_type": "code",
   "execution_count": 18,
   "id": "3d925cad-7edd-4751-8093-f2c7e52c78f0",
   "metadata": {},
   "outputs": [
    {
     "name": "stdout",
     "output_type": "stream",
     "text": [
      "['maharashtra', 13, 'adil', 10.56, True]\n",
      "['maharashtra', 'adil', 10.56, True]\n"
     ]
    }
   ],
   "source": [
    "random=[\"maharashtra\",13,\"adil\",10.56,True]#random\n",
    "print(random)\n",
    "random.pop(1)\n",
    "print(random)\n"
   ]
  },
  {
   "cell_type": "code",
   "execution_count": 20,
   "id": "a9569200-d70e-4c03-9a8c-b4533396864a",
   "metadata": {
    "scrolled": true
   },
   "outputs": [
    {
     "name": "stdout",
     "output_type": "stream",
     "text": [
      "['maharashtra', 13, 'adil', 10.56, True]\n"
     ]
    },
    {
     "data": {
      "text/plain": [
       "1"
      ]
     },
     "execution_count": 20,
     "metadata": {},
     "output_type": "execute_result"
    }
   ],
   "source": [
    "random=[\"maharashtra\",13,\"adil\",10.56,True]#index\n",
    "random.index(13)\n",
    "print(random)\n",
    "random.index(13)"
   ]
  },
  {
   "cell_type": "code",
   "execution_count": 23,
   "id": "73e6080b-ed8a-4a31-9e1e-e44a7db188b6",
   "metadata": {},
   "outputs": [
    {
     "name": "stdout",
     "output_type": "stream",
     "text": [
      "['maharashtra', 13, 'adil', 10.56, True]\n"
     ]
    },
    {
     "data": {
      "text/plain": [
       "1"
      ]
     },
     "execution_count": 23,
     "metadata": {},
     "output_type": "execute_result"
    }
   ],
   "source": [
    "random=[\"maharashtra\",13,\"adil\",10.56,True]#count\n",
    "print(random)\n",
    "random.count(\"adil\")"
   ]
  },
  {
   "cell_type": "code",
   "execution_count": 24,
   "id": "b36932e3-11bd-4e17-a447-d4d594501837",
   "metadata": {},
   "outputs": [
    {
     "ename": "TypeError",
     "evalue": "'<' not supported between instances of 'int' and 'str'",
     "output_type": "error",
     "traceback": [
      "\u001b[31m---------------------------------------------------------------------------\u001b[39m",
      "\u001b[31mTypeError\u001b[39m                                 Traceback (most recent call last)",
      "\u001b[36mCell\u001b[39m\u001b[36m \u001b[39m\u001b[32mIn[24]\u001b[39m\u001b[32m, line 2\u001b[39m\n\u001b[32m      1\u001b[39m random=[\u001b[33m\"\u001b[39m\u001b[33mmaharashtra\u001b[39m\u001b[33m\"\u001b[39m,\u001b[32m13\u001b[39m,\u001b[33m\"\u001b[39m\u001b[33madil\u001b[39m\u001b[33m\"\u001b[39m,\u001b[32m10.56\u001b[39m,\u001b[38;5;28;01mTrue\u001b[39;00m]\n\u001b[32m----> \u001b[39m\u001b[32m2\u001b[39m \u001b[43mrandom\u001b[49m\u001b[43m.\u001b[49m\u001b[43msort\u001b[49m\u001b[43m(\u001b[49m\u001b[43m)\u001b[49m\n\u001b[32m      3\u001b[39m \u001b[38;5;28mprint\u001b[39m(random)\n",
      "\u001b[31mTypeError\u001b[39m: '<' not supported between instances of 'int' and 'str'"
     ]
    }
   ],
   "source": [
    "random=[\"maharashtra\",13,\"adil\",10.56,True]#sort\n",
    "random.sort()\n",
    "print(random)"
   ]
  },
  {
   "cell_type": "code",
   "execution_count": 25,
   "id": "321a6db6-412a-4d70-9d8d-fe2fbaf5f8f3",
   "metadata": {},
   "outputs": [
    {
     "name": "stdout",
     "output_type": "stream",
     "text": [
      "['banana', 'kiwi', 'mango', 'orange', 'pineapple']\n"
     ]
    }
   ],
   "source": [
    "random= [\"orange\", \"mango\", \"kiwi\", \"pineapple\", \"banana\"]#sort\n",
    "random.sort()\n",
    "print(random)\n"
   ]
  },
  {
   "cell_type": "code",
   "execution_count": 26,
   "id": "aa14f3d7-cf7c-4265-8216-81b477ec1c34",
   "metadata": {},
   "outputs": [
    {
     "name": "stdout",
     "output_type": "stream",
     "text": [
      "before sort:[1, 12, 13, 15, 16]\n",
      "after sort:[1, 12, 13, 15, 16]\n"
     ]
    }
   ],
   "source": [
    "demo=[1,12,13,15,16]#sort\n",
    "print(f\"before sort:{demo}\")\n",
    "demo.sort()\n",
    "print(f\"after sort:{demo}\")"
   ]
  },
  {
   "cell_type": "code",
   "execution_count": 31,
   "id": "acaa3584-3056-476d-b820-d1737db644e5",
   "metadata": {},
   "outputs": [
    {
     "name": "stdout",
     "output_type": "stream",
     "text": [
      "['banana', 'kiwi', 'mango', 'orange', 'pineapple']\n"
     ]
    }
   ],
   "source": [
    "random= [\"orange\", \"mango\", \"kiwi\", \"pineapple\", \"banana\"]#reverse\n",
    "random.reverse()\n",
    "print(random)"
   ]
  },
  {
   "cell_type": "code",
   "execution_count": 34,
   "id": "bb428c41-c5aa-4df2-b7e1-4ceb9ace5554",
   "metadata": {},
   "outputs": [
    {
     "name": "stdout",
     "output_type": "stream",
     "text": [
      "5\n"
     ]
    }
   ],
   "source": [
    "random= [\"orange\", \"mango\", \"kiwi\", \"pineapple\", \"banana\"]#len\n",
    "print(len(random))"
   ]
  },
  {
   "cell_type": "code",
   "execution_count": null,
   "id": "e35d257c-3e91-400e-88ec-c337ca299446",
   "metadata": {},
   "outputs": [],
   "source": []
  },
  {
   "cell_type": "code",
   "execution_count": null,
   "id": "0d46f1c6-f486-44a0-bb69-f07d86dc1642",
   "metadata": {},
   "outputs": [],
   "source": []
  }
 ],
 "metadata": {
  "kernelspec": {
   "display_name": "Python 3 (ipykernel)",
   "language": "python",
   "name": "python3"
  },
  "language_info": {
   "codemirror_mode": {
    "name": "ipython",
    "version": 3
   },
   "file_extension": ".py",
   "mimetype": "text/x-python",
   "name": "python",
   "nbconvert_exporter": "python",
   "pygments_lexer": "ipython3",
   "version": "3.12.4"
  }
 },
 "nbformat": 4,
 "nbformat_minor": 5
}
