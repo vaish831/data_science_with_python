{
 "cells": [
  {
   "cell_type": "markdown",
   "id": "7be1bfb8-7975-4d99-b214-02b751e19dfe",
   "metadata": {},
   "source": [
    "### for loop\n"
   ]
  },
  {
   "cell_type": "code",
   "execution_count": 10,
   "id": "08a49048-99ed-41e8-a91c-3cc568300c58",
   "metadata": {},
   "outputs": [
    {
     "name": "stdout",
     "output_type": "stream",
     "text": [
      "apple\n",
      "banana\n",
      "kivi\n",
      "cherry\n"
     ]
    }
   ],
   "source": [
    "fruits=[\"apple\",\"banana\",\"kivi\",\"cherry\"]\n",
    "for fruit in fruits:\n",
    "      print (fruit)\n",
    "    "
   ]
  },
  {
   "cell_type": "code",
   "execution_count": 11,
   "id": "3d8bceac-f496-425c-9b29-4672cfc37bf1",
   "metadata": {},
   "outputs": [
    {
     "name": "stdout",
     "output_type": "stream",
     "text": [
      "c\n",
      "h\n",
      "e\n",
      "r\n",
      "r\n",
      "y\n"
     ]
    }
   ],
   "source": [
    "fruits=[\"apple\",\"banana\",\"kivi\",\"cherry\"]\n",
    "for fruits in fruit:\n",
    "      print (fruits)"
   ]
  },
  {
   "cell_type": "code",
   "execution_count": 15,
   "id": "496dbecb-8e0d-4cdc-a8a7-116909ffc3fe",
   "metadata": {},
   "outputs": [
    {
     "name": "stdout",
     "output_type": "stream",
     "text": [
      "1\n",
      "2\n",
      "3\n",
      "4\n",
      "5\n",
      "6\n",
      "7\n",
      "8\n",
      "9\n",
      "10\n"
     ]
    }
   ],
   "source": [
    "fruits=[\"apple\",\"banana\",\"kivi\",\"cherry\"]\n",
    "for fruit in range(1,11):\n",
    "      print (fruit)"
   ]
  },
  {
   "cell_type": "code",
   "execution_count": null,
   "id": "617cb3ef-7170-4fcb-b988-b65daafeb46d",
   "metadata": {},
   "outputs": [],
   "source": []
  },
  {
   "cell_type": "markdown",
   "id": "16a83488-a82f-489c-a9ee-ff74e16aa887",
   "metadata": {},
   "source": [
    "### while loop"
   ]
  },
  {
   "cell_type": "code",
   "execution_count": 1,
   "id": "bb09b797-cb8a-4109-8f86-6377a73e7578",
   "metadata": {},
   "outputs": [
    {
     "name": "stdout",
     "output_type": "stream",
     "text": [
      "0\n",
      "1\n",
      "2\n",
      "3\n",
      "4\n"
     ]
    }
   ],
   "source": [
    "count=0\n",
    "\n",
    "while count<5:\n",
    "     print(count)\n",
    "     count+=1"
   ]
  },
  {
   "cell_type": "markdown",
   "id": "87929d94-1db9-412a-baa4-f43832025820",
   "metadata": {},
   "source": [
    "\n",
    "## break"
   ]
  },
  {
   "cell_type": "code",
   "execution_count": 10,
   "id": "6dc78ff6-12d1-491c-8375-cc2a76ddeb0d",
   "metadata": {},
   "outputs": [
    {
     "name": "stdout",
     "output_type": "stream",
     "text": [
      "0\n",
      "1\n",
      "2\n",
      "3\n",
      "4\n"
     ]
    }
   ],
   "source": [
    "for i in range (10):\n",
    "    if i==5:\n",
    "        break\n",
    "    print(i)"
   ]
  },
  {
   "cell_type": "code",
   "execution_count": null,
   "id": "0ed966b2-d920-422f-8965-c205d91d19b9",
   "metadata": {},
   "outputs": [],
   "source": [
    "count= 0\n",
    "while count <3:\n",
    "    if count==2:\n",
    "       break\n",
    "    print(count)\n",
    "    count+=1"
   ]
  },
  {
   "cell_type": "code",
   "execution_count": null,
   "id": "f0ea1196-ce46-4104-a1c9-54dd54d7067f",
   "metadata": {},
   "outputs": [],
   "source": []
  },
  {
   "cell_type": "markdown",
   "id": "3d0e28e3-bf1f-44fa-8324-5aaf3c8f050f",
   "metadata": {},
   "source": [
    "### continue "
   ]
  },
  {
   "cell_type": "code",
   "execution_count": null,
   "id": "131f08c2-b2c3-4028-b71c-d2a47b55d691",
   "metadata": {},
   "outputs": [],
   "source": [
    "continue statement used to skip the current step in a loop and go to the next iteration...\n",
    "\n",
    "FOR LOOP ------->skips the current item and goes to the next item in the list or range\n",
    "\n",
    "WHILE LOOP ----->skips the rest of the code in the loop and checks the condition again\n",
    "\n"
   ]
  },
  {
   "cell_type": "code",
   "execution_count": 3,
   "id": "f2a3dfb0-3303-4af8-afaf-775c9c9d2a5f",
   "metadata": {},
   "outputs": [
    {
     "name": "stdout",
     "output_type": "stream",
     "text": [
      "1\n",
      "3\n",
      "4\n"
     ]
    }
   ],
   "source": [
    "for i in range(1,5):\n",
    "    if i==2:\n",
    "        continue\n",
    "    print(i)    #when i==2 it skips 2"
   ]
  },
  {
   "cell_type": "code",
   "execution_count": 9,
   "id": "16c90ebc-5ae6-44b9-948d-8870e2c9f321",
   "metadata": {},
   "outputs": [
    {
     "name": "stdout",
     "output_type": "stream",
     "text": [
      "1\n",
      "2\n",
      "4\n",
      "5\n",
      "6\n",
      "7\n",
      "8\n",
      "9\n",
      "10\n"
     ]
    }
   ],
   "source": [
    "for i in range(1,11):\n",
    "    if i==3:\n",
    "        continue\n",
    "    print(i)      #when i==3 it skips 3"
   ]
  },
  {
   "cell_type": "markdown",
   "id": "64e7bc98-2a21-4ed1-ab03-66fcdacb818d",
   "metadata": {},
   "source": [
    " "
   ]
  },
  {
   "cell_type": "markdown",
   "id": "88529906-958d-40cb-8b00-a035e67d10a8",
   "metadata": {},
   "source": [
    "### while loop"
   ]
  },
  {
   "cell_type": "code",
   "execution_count": null,
   "id": "f94b52cd-ef6d-41fa-bb4f-c65405d46eb6",
   "metadata": {},
   "outputs": [],
   "source": [
    "i=0\n",
    "while i<5:\n",
    "    if i==2:\n",
    "        continue\n",
    "    print(i)\n",
    "    i +=1\n",
    "   "
   ]
  },
  {
   "cell_type": "code",
   "execution_count": null,
   "id": "a387f2d4-b606-4bd5-9b0b-de051bc82520",
   "metadata": {},
   "outputs": [],
   "source": []
  },
  {
   "cell_type": "markdown",
   "id": "71ee78d2-d5db-4640-9cc3-de1adaba899c",
   "metadata": {},
   "source": [
    "### range"
   ]
  },
  {
   "cell_type": "code",
   "execution_count": null,
   "id": "e1c29d5a-4fb5-4707-899e-0d9bc16672da",
   "metadata": {},
   "outputs": [],
   "source": [
    "for i in range(2,51,2):\n",
    "    print(i)"
   ]
  },
  {
   "cell_type": "code",
   "execution_count": null,
   "id": "3b294cc4-b88a-4bb0-bb1f-db368868e2cf",
   "metadata": {},
   "outputs": [],
   "source": []
  },
  {
   "cell_type": "code",
   "execution_count": 4,
   "id": "634db992-1000-4d66-b6bf-24ca99e25c09",
   "metadata": {},
   "outputs": [
    {
     "name": "stdout",
     "output_type": "stream",
     "text": [
      "2\n",
      "4\n",
      "6\n",
      "8\n",
      "10\n",
      "12\n",
      "14\n",
      "16\n",
      "18\n",
      "20\n",
      "22\n",
      "24\n",
      "26\n",
      "28\n",
      "30\n",
      "32\n",
      "34\n",
      "36\n",
      "38\n",
      "40\n",
      "42\n",
      "44\n",
      "46\n",
      "48\n",
      "50\n"
     ]
    }
   ],
   "source": [
    "for i in range(1,51):\n",
    "    if i%2==0:\n",
    "       print(i)"
   ]
  },
  {
   "cell_type": "code",
   "execution_count": null,
   "id": "ba24cd67-190c-483a-ad61-25bcfe95c34c",
   "metadata": {},
   "outputs": [],
   "source": []
  },
  {
   "cell_type": "code",
   "execution_count": null,
   "id": "190c95a5-7fcb-46b4-a3c4-0980c9f9d715",
   "metadata": {},
   "outputs": [],
   "source": [
    "number=1\n",
    "while number<=80:\n",
    "    if number%2!=0:\n",
    "      print(number)\n",
    "    number+=1"
   ]
  },
  {
   "cell_type": "code",
   "execution_count": null,
   "id": "469e8171-f9d5-42d5-9e05-8d70b467c87d",
   "metadata": {},
   "outputs": [],
   "source": [
    "number=1\n",
    "while number<=80:\n",
    "      print(number)\n",
    "    number+=2"
   ]
  },
  {
   "cell_type": "markdown",
   "id": "209f6136-fad7-4a3a-a0f8-dcd8317333b9",
   "metadata": {},
   "source": []
  },
  {
   "cell_type": "code",
   "execution_count": null,
   "id": "684586f9-1529-4c67-b5a5-aac76562507a",
   "metadata": {},
   "outputs": [],
   "source": []
  },
  {
   "cell_type": "code",
   "execution_count": null,
   "id": "2026d5a0-2cdc-4d13-8bf5-e6a8dc620bcf",
   "metadata": {},
   "outputs": [],
   "source": []
  },
  {
   "cell_type": "code",
   "execution_count": null,
   "id": "450d502e-b1af-4c69-80c5-9b32d6538cdb",
   "metadata": {},
   "outputs": [],
   "source": []
  },
  {
   "cell_type": "code",
   "execution_count": null,
   "id": "442d1ddb-c73b-44e7-a108-ee7134f93756",
   "metadata": {},
   "outputs": [],
   "source": []
  },
  {
   "cell_type": "code",
   "execution_count": null,
   "id": "d3094565-c51f-4983-b149-7d16822d65df",
   "metadata": {},
   "outputs": [],
   "source": []
  },
  {
   "cell_type": "code",
   "execution_count": null,
   "id": "4e95d7be-c3c8-481d-9d23-40e31b0de07b",
   "metadata": {},
   "outputs": [],
   "source": []
  },
  {
   "cell_type": "code",
   "execution_count": null,
   "id": "e41967dd-3a1c-4a5b-8f58-1cd29bbe652f",
   "metadata": {},
   "outputs": [],
   "source": []
  },
  {
   "cell_type": "code",
   "execution_count": null,
   "id": "08628b1f-1e21-4e0f-af5e-c5a5251368d2",
   "metadata": {},
   "outputs": [],
   "source": []
  },
  {
   "cell_type": "code",
   "execution_count": null,
   "id": "48911fca-31dc-4cdc-9570-167f8da99311",
   "metadata": {},
   "outputs": [],
   "source": []
  },
  {
   "cell_type": "code",
   "execution_count": null,
   "id": "48da01f4-9e8a-43ba-aa53-c1d2ae3733d4",
   "metadata": {},
   "outputs": [],
   "source": []
  },
  {
   "cell_type": "code",
   "execution_count": null,
   "id": "3fc0a772-113a-4639-994c-56d25eaea9e0",
   "metadata": {},
   "outputs": [],
   "source": []
  },
  {
   "cell_type": "code",
   "execution_count": null,
   "id": "aa934be0-7f57-457b-8961-e4271a11f57d",
   "metadata": {},
   "outputs": [],
   "source": []
  },
  {
   "cell_type": "code",
   "execution_count": null,
   "id": "8dd0f3b2-1af6-406f-8e15-3ae101395711",
   "metadata": {},
   "outputs": [],
   "source": []
  },
  {
   "cell_type": "code",
   "execution_count": null,
   "id": "b622eec4-6a3f-42ed-a0eb-e5e64ef25ea2",
   "metadata": {},
   "outputs": [],
   "source": []
  },
  {
   "cell_type": "code",
   "execution_count": null,
   "id": "8b981aff-c365-4344-8610-2544184ac246",
   "metadata": {},
   "outputs": [],
   "source": []
  },
  {
   "cell_type": "code",
   "execution_count": null,
   "id": "8a0bf1d8-7d51-4d90-ba4e-c51171c9ece1",
   "metadata": {},
   "outputs": [],
   "source": []
  },
  {
   "cell_type": "code",
   "execution_count": null,
   "id": "75d6f087-9723-4877-832c-77944719a7e0",
   "metadata": {},
   "outputs": [],
   "source": []
  },
  {
   "cell_type": "code",
   "execution_count": null,
   "id": "4a82f04a-e376-4913-9d2b-a3d3fde065ad",
   "metadata": {},
   "outputs": [],
   "source": []
  },
  {
   "cell_type": "code",
   "execution_count": null,
   "id": "15db1a4b-47d8-4eaf-bff4-b52814e75263",
   "metadata": {},
   "outputs": [],
   "source": []
  },
  {
   "cell_type": "code",
   "execution_count": null,
   "id": "a4031778-2152-47e2-82f9-41e4f780b475",
   "metadata": {},
   "outputs": [],
   "source": []
  },
  {
   "cell_type": "code",
   "execution_count": null,
   "id": "a4e7c4ce-b462-4ad9-b06b-3971ff17b172",
   "metadata": {},
   "outputs": [],
   "source": []
  },
  {
   "cell_type": "code",
   "execution_count": null,
   "id": "42da72e3-cbf0-4a31-a3bd-9967745462cc",
   "metadata": {},
   "outputs": [],
   "source": []
  }
 ],
 "metadata": {
  "kernelspec": {
   "display_name": "Python 3 (ipykernel)",
   "language": "python",
   "name": "python3"
  },
  "language_info": {
   "codemirror_mode": {
    "name": "ipython",
    "version": 3
   },
   "file_extension": ".py",
   "mimetype": "text/x-python",
   "name": "python",
   "nbconvert_exporter": "python",
   "pygments_lexer": "ipython3",
   "version": "3.12.4"
  }
 },
 "nbformat": 4,
 "nbformat_minor": 5
}
