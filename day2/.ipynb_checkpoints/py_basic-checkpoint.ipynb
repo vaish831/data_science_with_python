{
 "cells": [
  {
   "cell_type": "markdown",
   "id": "03a24175-c85d-4271-8a2e-668032894131",
   "metadata": {},
   "source": [
    "| Feature | List([]) | Tuple (()) |set{}| Dictionary ({key,value}) |\n",
    "| --------|----------|------------|-----|---------------------|\n",
    "|ordered  | yes|yes|no|no (keys are unique)|                          \n",
    "|mutable(can change)|yes|no |yes |yes |\n",
    "|allow duplicates|yes|yes|no|keys-> NO,values ->yes|\n",
    "|indexing supportes|yes|yes|no|no (access via keys)|\n",
    "|iteration possible|yes|yes|yes|yes|\n",
    "|use case | ordered collection of items|fixed Data (co-ordinators) (config)|unique item collection|key value mapping (ex.age ->number,country ->capital)|"
   ]
  },
  {
   "cell_type": "markdown",
   "id": "fefcc725-0645-47f3-ae5b-12ce29d26017",
   "metadata": {},
   "source": [
    "#Ordered collection"
   ]
  },
  {
   "cell_type": "code",
   "execution_count": 4,
   "id": "830bc61d-c3bd-466b-9b57-58bf3289b3b8",
   "metadata": {},
   "outputs": [
    {
     "name": "stdout",
     "output_type": "stream",
     "text": [
      "[1, 2, 3]\n"
     ]
    }
   ],
   "source": [
    "list=[1,2,3]\n",
    "print(list)"
   ]
  },
  {
   "cell_type": "code",
   "execution_count": 5,
   "id": "7375a54c-ab75-4024-b3f1-ace41a3d5d70",
   "metadata": {},
   "outputs": [
    {
     "name": "stdout",
     "output_type": "stream",
     "text": [
      "(5, 6, 7)\n"
     ]
    }
   ],
   "source": [
    "tuple=(5,6,7)\n",
    "print(tuple)"
   ]
  },
  {
   "cell_type": "code",
   "execution_count": 19,
   "id": "18ffec21-57cd-4482-8f52-98296fc38694",
   "metadata": {},
   "outputs": [
    {
     "name": "stdout",
     "output_type": "stream",
     "text": [
      "{4, 5, 6}\n"
     ]
    }
   ],
   "source": [
    "set={4,5,6}\n",
    "print(set)"
   ]
  },
  {
   "cell_type": "code",
   "execution_count": 10,
   "id": "f1af4657-7314-4d6d-bb6e-42df95965f55",
   "metadata": {},
   "outputs": [
    {
     "name": "stdout",
     "output_type": "stream",
     "text": [
      "{'name': 'vaishnavi', 'age': '20', 'marks': '85'}\n"
     ]
    }
   ],
   "source": [
    "dict={\"name\":\"vaishnavi\",\n",
    "     \"age\":\"20\",\n",
    "     \"marks\":\"85\"}\n",
    "print(dict)\n"
   ]
  },
  {
   "cell_type": "markdown",
   "id": "bf5aef57-a05d-4d15-b567-6eee34f06aa5",
   "metadata": {},
   "source": [
    "#Mutable\n"
   ]
  },
  {
   "cell_type": "code",
   "execution_count": 11,
   "id": "b708d9da-497e-403b-b656-0e1d81d1765f",
   "metadata": {},
   "outputs": [
    {
     "name": "stdout",
     "output_type": "stream",
     "text": [
      "[1, 2, 3, 5]\n"
     ]
    }
   ],
   "source": [
    "list=[1,2,3]\n",
    "list.append(5)\n",
    "print(list)"
   ]
  },
  {
   "cell_type": "code",
   "execution_count": 12,
   "id": "6a853499-c8bd-4d8b-8654-ce015d73550d",
   "metadata": {},
   "outputs": [
    {
     "ename": "AttributeError",
     "evalue": "'tuple' object has no attribute 'append'",
     "output_type": "error",
     "traceback": [
      "\u001b[31m---------------------------------------------------------------------------\u001b[39m",
      "\u001b[31mAttributeError\u001b[39m                            Traceback (most recent call last)",
      "\u001b[36mCell\u001b[39m\u001b[36m \u001b[39m\u001b[32mIn[12]\u001b[39m\u001b[32m, line 2\u001b[39m\n\u001b[32m      1\u001b[39m \u001b[38;5;28mtuple\u001b[39m=(\u001b[32m1\u001b[39m,\u001b[32m2\u001b[39m,\u001b[32m3\u001b[39m,\u001b[32m4\u001b[39m,\u001b[32m5\u001b[39m)\n\u001b[32m----> \u001b[39m\u001b[32m2\u001b[39m \u001b[38;5;28;43mtuple\u001b[39;49m\u001b[43m.\u001b[49m\u001b[43mappend\u001b[49m(\u001b[32m9\u001b[39m)\n\u001b[32m      3\u001b[39m \u001b[38;5;28mprint\u001b[39m(\u001b[38;5;28mtuple\u001b[39m)\n",
      "\u001b[31mAttributeError\u001b[39m: 'tuple' object has no attribute 'append'"
     ]
    }
   ],
   "source": [
    "tuple=(1,2,3,4,5)\n",
    "tuple.append(9)\n",
    "print(tuple)"
   ]
  },
  {
   "cell_type": "code",
   "execution_count": 13,
   "id": "24321575-e278-44bd-b088-f5e56f4feba0",
   "metadata": {},
   "outputs": [
    {
     "name": "stdout",
     "output_type": "stream",
     "text": [
      "{8, 9, 10, 7}\n"
     ]
    }
   ],
   "source": [
    "set={9,8,7}\n",
    "set.add(10)\n",
    "print(set)\n"
   ]
  },
  {
   "cell_type": "code",
   "execution_count": 14,
   "id": "d09a4e2d-353d-49b5-b204-adc7b4d34c25",
   "metadata": {},
   "outputs": [
    {
     "name": "stdout",
     "output_type": "stream",
     "text": [
      "{'name': 'vaishnavi', 'age': '20', 'marks': '85', 'branch': 'BCA'}\n"
     ]
    }
   ],
   "source": [
    "dict={\"name\":\"vaishnavi\",\n",
    "     \"age\":\"20\",\n",
    "     \"marks\":\"85\"}\n",
    "dict[\"branch\"]=\"BCA\"\n",
    "print(dict)\n"
   ]
  },
  {
   "cell_type": "code",
   "execution_count": null,
   "id": "068a25bb-5ed9-4f50-bbfa-8a0f188ea163",
   "metadata": {},
   "outputs": [],
   "source": [
    "#allow duplicates"
   ]
  },
  {
   "cell_type": "code",
   "execution_count": 15,
   "id": "eea9cb85-cc2d-4d99-a1ca-5e27589762a5",
   "metadata": {},
   "outputs": [
    {
     "name": "stdout",
     "output_type": "stream",
     "text": [
      "[1, 2, 3, 1]\n"
     ]
    }
   ],
   "source": [
    "list=[1,2,3,1]\n",
    "print(list)"
   ]
  },
  {
   "cell_type": "code",
   "execution_count": 16,
   "id": "efd30688-0347-413e-ad27-6ba667f06d56",
   "metadata": {},
   "outputs": [
    {
     "name": "stdout",
     "output_type": "stream",
     "text": [
      "(5, 6, 7, 5)\n"
     ]
    }
   ],
   "source": [
    "tuple=(5,6,7,5)\n",
    "print(tuple)"
   ]
  },
  {
   "cell_type": "code",
   "execution_count": 18,
   "id": "4cdd09ce-95d9-4417-89ac-b6e86d88c801",
   "metadata": {},
   "outputs": [
    {
     "name": "stdout",
     "output_type": "stream",
     "text": [
      "{4, 5, 6}\n"
     ]
    }
   ],
   "source": [
    "set={4,5,6,6}\n",
    "print(set)"
   ]
  },
  {
   "cell_type": "code",
   "execution_count": 20,
   "id": "861d46fd-7d28-4920-857c-c232cd87fae2",
   "metadata": {},
   "outputs": [
    {
     "name": "stdout",
     "output_type": "stream",
     "text": [
      "{'name': 'vaishnavi', 'age': '21', 'marks': '85'}\n"
     ]
    }
   ],
   "source": [
    "dict={\"name\":\"vaishnavi\",\n",
    "     \"age\":\"20\",\n",
    "      \"age\":\"21\",\n",
    "     \"marks\":\"85\"}\n",
    "print(dict)\n"
   ]
  },
  {
   "cell_type": "code",
   "execution_count": null,
   "id": "a6d35008-03f7-4c2e-9ee1-bd8dbbf9fe7d",
   "metadata": {},
   "outputs": [],
   "source": [
    "#indexing support\n"
   ]
  },
  {
   "cell_type": "code",
   "execution_count": 22,
   "id": "e702e3cb-db05-42b2-87ec-77f960188fac",
   "metadata": {},
   "outputs": [
    {
     "name": "stdout",
     "output_type": "stream",
     "text": [
      "4\n"
     ]
    }
   ],
   "source": [
    "list=[1,2,3,4,5,6,7]\n",
    "print(list[3])"
   ]
  },
  {
   "cell_type": "code",
   "execution_count": 23,
   "id": "38cd46f8-ca7e-4f75-82b8-4eedada63a2a",
   "metadata": {},
   "outputs": [
    {
     "name": "stdout",
     "output_type": "stream",
     "text": [
      "6\n"
     ]
    }
   ],
   "source": [
    "tuple=(5,6,7,8)\n",
    "print(tuple[1])"
   ]
  },
  {
   "cell_type": "code",
   "execution_count": 24,
   "id": "118072d7-563d-45b8-a075-cb9996899309",
   "metadata": {},
   "outputs": [
    {
     "ename": "TypeError",
     "evalue": "'set' object is not subscriptable",
     "output_type": "error",
     "traceback": [
      "\u001b[31m---------------------------------------------------------------------------\u001b[39m",
      "\u001b[31mTypeError\u001b[39m                                 Traceback (most recent call last)",
      "\u001b[36mCell\u001b[39m\u001b[36m \u001b[39m\u001b[32mIn[24]\u001b[39m\u001b[32m, line 2\u001b[39m\n\u001b[32m      1\u001b[39m \u001b[38;5;28mset\u001b[39m={\u001b[32m4\u001b[39m,\u001b[32m5\u001b[39m,\u001b[32m6\u001b[39m,\u001b[32m7\u001b[39m}\n\u001b[32m----> \u001b[39m\u001b[32m2\u001b[39m \u001b[38;5;28mprint\u001b[39m(\u001b[38;5;28;43mset\u001b[39;49m\u001b[43m[\u001b[49m\u001b[32;43m1\u001b[39;49m\u001b[43m]\u001b[49m)\n",
      "\u001b[31mTypeError\u001b[39m: 'set' object is not subscriptable"
     ]
    }
   ],
   "source": [
    "set={4,5,6,7}\n",
    "print(set[1])"
   ]
  },
  {
   "cell_type": "code",
   "execution_count": 26,
   "id": "773c734c-3ed7-4d14-9a10-20cc78d8e875",
   "metadata": {},
   "outputs": [
    {
     "name": "stdout",
     "output_type": "stream",
     "text": [
      "vaishnavi\n"
     ]
    }
   ],
   "source": [
    "dict={\"name\":\"vaishnavi\",\n",
    "     \"age\":\"20\",\n",
    "     \"marks\":\"85\"}\n",
    "print(dict[\"name\"])"
   ]
  },
  {
   "cell_type": "code",
   "execution_count": null,
   "id": "8e3871d1-dd94-450d-8a3f-045a4a4917b2",
   "metadata": {},
   "outputs": [],
   "source": [
    "#iteration possible"
   ]
  },
  {
   "cell_type": "code",
   "execution_count": 27,
   "id": "c703e4b0-476f-4e2e-b9ca-e8e59827fc5f",
   "metadata": {},
   "outputs": [
    {
     "name": "stdout",
     "output_type": "stream",
     "text": [
      "1\n",
      "2\n",
      "3\n",
      "4\n",
      "5\n",
      "6\n",
      "7\n"
     ]
    }
   ],
   "source": [
    "list=[1,2,3,4,5,6,7]\n",
    "for li in list:\n",
    "    print(li)"
   ]
  },
  {
   "cell_type": "code",
   "execution_count": 28,
   "id": "01c3409f-0250-4939-b8ce-f9c7b85ef0b4",
   "metadata": {},
   "outputs": [
    {
     "name": "stdout",
     "output_type": "stream",
     "text": [
      "5\n",
      "6\n",
      "7\n",
      "8\n"
     ]
    }
   ],
   "source": [
    "tuple=(5,6,7,8)\n",
    "for tupp in tuple:\n",
    "    print(tupp)"
   ]
  },
  {
   "cell_type": "code",
   "execution_count": 29,
   "id": "9848942d-4927-476b-8fd9-0db9083202e9",
   "metadata": {},
   "outputs": [
    {
     "name": "stdout",
     "output_type": "stream",
     "text": [
      "4\n",
      "5\n",
      "6\n",
      "7\n"
     ]
    }
   ],
   "source": [
    "set={4,5,6,7}\n",
    "for items in set:\n",
    "    print(items)"
   ]
  },
  {
   "cell_type": "code",
   "execution_count": 32,
   "id": "1012bb90-47be-40ac-91fc-ccef1904f406",
   "metadata": {},
   "outputs": [
    {
     "name": "stdout",
     "output_type": "stream",
     "text": [
      "vaishnavi\n",
      "20\n",
      "85\n"
     ]
    }
   ],
   "source": [
    "dict={\"name\":\"vaishnavi\",\n",
    "     \"age\":\"20\",\n",
    "     \"marks\":\"85\"}\n",
    "for items in dict.values():\n",
    "   print(items)"
   ]
  },
  {
   "cell_type": "code",
   "execution_count": null,
   "id": "d764d82d-b5d1-48ba-b5e2-456d069d0ade",
   "metadata": {},
   "outputs": [],
   "source": []
  },
  {
   "cell_type": "code",
   "execution_count": null,
   "id": "47936f5c-2ce8-43f0-bf28-95808c6e7efe",
   "metadata": {},
   "outputs": [],
   "source": []
  }
 ],
 "metadata": {
  "kernelspec": {
   "display_name": "Python 3 (ipykernel)",
   "language": "python",
   "name": "python3"
  },
  "language_info": {
   "codemirror_mode": {
    "name": "ipython",
    "version": 3
   },
   "file_extension": ".py",
   "mimetype": "text/x-python",
   "name": "python",
   "nbconvert_exporter": "python",
   "pygments_lexer": "ipython3",
   "version": "3.12.4"
  }
 },
 "nbformat": 4,
 "nbformat_minor": 5
}
